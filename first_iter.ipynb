{
  "cells": [
    {
      "cell_type": "code",
      "source": [
        "import pandas as pd\n",
        "from azure.ai.ml import MLClient\n",
        "from azure.identity import DefaultAzureCredential\n",
        "\n",
        "ml_client = MLClient.from_config(credential=DefaultAzureCredential())\n",
        "data_asset = ml_client.data.get(\"hospital\", version=\"1\")\n",
        "\n",
        "df = pd.read_stata(data_asset.path)"
      ],
      "outputs": [
        {
          "output_type": "stream",
          "name": "stderr",
          "text": "Found the config file in: /config.json\n"
        }
      ],
      "execution_count": 2,
      "metadata": {
        "gather": {
          "logged": 1736127191012
        }
      }
    },
    {
      "cell_type": "code",
      "source": [
        "df.head(5)"
      ],
      "outputs": [
        {
          "output_type": "execute_result",
          "execution_count": 3,
          "data": {
            "text/plain": "   DISCWT  HOSP_BEDSIZE  HOSP_DIVISION  HOSP_LOCTEACH  HOSP_NIS  HOSP_REGION  \\\n0     5.0             2              1              3     10001            1   \n1     5.0             2              1              3     10001            1   \n2     5.0             2              1              3     10001            1   \n3     5.0             2              1              3     10001            1   \n4     5.0             2              1              3     10001            1   \n\n   H_CONTRL  NIS_STRATUM  N_DISC_U  N_HOSP_U  ...  CMR_PERIVASC  \\\n0         2         1232    328130        19  ...             0   \n1         2         1232    328130        19  ...             0   \n2         2         1232    328130        19  ...             0   \n3         2         1232    328130        19  ...             0   \n4         2         1232    328130        19  ...             0   \n\n   CMR_THYROID_HYPO  CMR_THYROID_OTH  APRDRG  APRDRG_Risk_Mortality  \\\n0                 0                0     248                      3   \n1                 0                0     346                      1   \n2                 1                0      45                      3   \n3                 0                0     751                      1   \n4                 0                0     137                      2   \n\n   APRDRG_Severity  bed_count  bed_days_available  total_bed_days_available  \\\n0                2      424.0             12720.0              6.127792e+10   \n1                2      424.0             12720.0              6.127792e+10   \n2                3      424.0             12720.0              6.127792e+10   \n3                2      424.0             12720.0              6.127792e+10   \n4                2      424.0             12720.0              6.127792e+10   \n\n   occupancy_rate  \n0        0.102201  \n1        0.055031  \n2        0.047170  \n3        0.125786  \n4        0.007862  \n\n[5 rows x 67 columns]",
            "text/html": "<div>\n<style scoped>\n    .dataframe tbody tr th:only-of-type {\n        vertical-align: middle;\n    }\n\n    .dataframe tbody tr th {\n        vertical-align: top;\n    }\n\n    .dataframe thead th {\n        text-align: right;\n    }\n</style>\n<table border=\"1\" class=\"dataframe\">\n  <thead>\n    <tr style=\"text-align: right;\">\n      <th></th>\n      <th>DISCWT</th>\n      <th>HOSP_BEDSIZE</th>\n      <th>HOSP_DIVISION</th>\n      <th>HOSP_LOCTEACH</th>\n      <th>HOSP_NIS</th>\n      <th>HOSP_REGION</th>\n      <th>H_CONTRL</th>\n      <th>NIS_STRATUM</th>\n      <th>N_DISC_U</th>\n      <th>N_HOSP_U</th>\n      <th>...</th>\n      <th>CMR_PERIVASC</th>\n      <th>CMR_THYROID_HYPO</th>\n      <th>CMR_THYROID_OTH</th>\n      <th>APRDRG</th>\n      <th>APRDRG_Risk_Mortality</th>\n      <th>APRDRG_Severity</th>\n      <th>bed_count</th>\n      <th>bed_days_available</th>\n      <th>total_bed_days_available</th>\n      <th>occupancy_rate</th>\n    </tr>\n  </thead>\n  <tbody>\n    <tr>\n      <th>0</th>\n      <td>5.0</td>\n      <td>2</td>\n      <td>1</td>\n      <td>3</td>\n      <td>10001</td>\n      <td>1</td>\n      <td>2</td>\n      <td>1232</td>\n      <td>328130</td>\n      <td>19</td>\n      <td>...</td>\n      <td>0</td>\n      <td>0</td>\n      <td>0</td>\n      <td>248</td>\n      <td>3</td>\n      <td>2</td>\n      <td>424.0</td>\n      <td>12720.0</td>\n      <td>6.127792e+10</td>\n      <td>0.102201</td>\n    </tr>\n    <tr>\n      <th>1</th>\n      <td>5.0</td>\n      <td>2</td>\n      <td>1</td>\n      <td>3</td>\n      <td>10001</td>\n      <td>1</td>\n      <td>2</td>\n      <td>1232</td>\n      <td>328130</td>\n      <td>19</td>\n      <td>...</td>\n      <td>0</td>\n      <td>0</td>\n      <td>0</td>\n      <td>346</td>\n      <td>1</td>\n      <td>2</td>\n      <td>424.0</td>\n      <td>12720.0</td>\n      <td>6.127792e+10</td>\n      <td>0.055031</td>\n    </tr>\n    <tr>\n      <th>2</th>\n      <td>5.0</td>\n      <td>2</td>\n      <td>1</td>\n      <td>3</td>\n      <td>10001</td>\n      <td>1</td>\n      <td>2</td>\n      <td>1232</td>\n      <td>328130</td>\n      <td>19</td>\n      <td>...</td>\n      <td>0</td>\n      <td>1</td>\n      <td>0</td>\n      <td>45</td>\n      <td>3</td>\n      <td>3</td>\n      <td>424.0</td>\n      <td>12720.0</td>\n      <td>6.127792e+10</td>\n      <td>0.047170</td>\n    </tr>\n    <tr>\n      <th>3</th>\n      <td>5.0</td>\n      <td>2</td>\n      <td>1</td>\n      <td>3</td>\n      <td>10001</td>\n      <td>1</td>\n      <td>2</td>\n      <td>1232</td>\n      <td>328130</td>\n      <td>19</td>\n      <td>...</td>\n      <td>0</td>\n      <td>0</td>\n      <td>0</td>\n      <td>751</td>\n      <td>1</td>\n      <td>2</td>\n      <td>424.0</td>\n      <td>12720.0</td>\n      <td>6.127792e+10</td>\n      <td>0.125786</td>\n    </tr>\n    <tr>\n      <th>4</th>\n      <td>5.0</td>\n      <td>2</td>\n      <td>1</td>\n      <td>3</td>\n      <td>10001</td>\n      <td>1</td>\n      <td>2</td>\n      <td>1232</td>\n      <td>328130</td>\n      <td>19</td>\n      <td>...</td>\n      <td>0</td>\n      <td>0</td>\n      <td>0</td>\n      <td>137</td>\n      <td>2</td>\n      <td>2</td>\n      <td>424.0</td>\n      <td>12720.0</td>\n      <td>6.127792e+10</td>\n      <td>0.007862</td>\n    </tr>\n  </tbody>\n</table>\n<p>5 rows × 67 columns</p>\n</div>"
          },
          "metadata": {}
        }
      ],
      "execution_count": 3,
      "metadata": {
        "jupyter": {
          "source_hidden": false,
          "outputs_hidden": false
        },
        "nteract": {
          "transient": {
            "deleting": false
          }
        },
        "gather": {
          "logged": 1736127290128
        }
      }
    },
    {
      "cell_type": "code",
      "source": [
        "df.shape"
      ],
      "outputs": [
        {
          "output_type": "execute_result",
          "execution_count": 4,
          "data": {
            "text/plain": "(5688609, 67)"
          },
          "metadata": {}
        }
      ],
      "execution_count": 4,
      "metadata": {
        "jupyter": {
          "source_hidden": false,
          "outputs_hidden": false
        },
        "nteract": {
          "transient": {
            "deleting": false
          }
        },
        "gather": {
          "logged": 1736127298535
        }
      }
    },
    {
      "cell_type": "code",
      "source": [
        "df.columns"
      ],
      "outputs": [
        {
          "output_type": "execute_result",
          "execution_count": 5,
          "data": {
            "text/plain": "Index(['DISCWT', 'HOSP_BEDSIZE', 'HOSP_DIVISION', 'HOSP_LOCTEACH', 'HOSP_NIS',\n       'HOSP_REGION', 'H_CONTRL', 'NIS_STRATUM', 'N_DISC_U', 'N_HOSP_U',\n       'S_DISC_U', 'S_HOSP_U', 'TOTAL_DISC', 'YEAR', 'AGE', 'AMONTH',\n       'AWEEKEND', 'DIED', 'DISPUNIFORM', 'DQTR', 'DRG', 'DRGVER', 'DRG_NoPOA',\n       'ELECTIVE', 'FEMALE', 'HCUP_ED', 'I10_BIRTH', 'I10_DELIVERY', 'KEY_NIS',\n       'LOS', 'MDC', 'MDC_NoPOA', 'PAY1', 'PCLASS_ORPROC', 'PL_NCHS', 'RACE',\n       'TOTCHG', 'TRAN_IN', 'TRAN_OUT', 'ZIPINC_QRTL', 'CMR_AIDS',\n       'CMR_ALCOHOL', 'CMR_AUTOIMMUNE', 'CMR_CANCER_LYMPH', 'CMR_CANCER_LEUK',\n       'CMR_CANCER_METS', 'CMR_CANCER_NSITU', 'CMR_CANCER_SOLID',\n       'CMR_DEMENTIA', 'CMR_DEPRESS', 'CMR_DIAB_UNCX', 'CMR_DIAB_CX',\n       'CMR_DRUG_ABUSE', 'CMR_HTN_CX', 'CMR_HTN_UNCX', 'CMR_LUNG_CHRONIC',\n       'CMR_OBESE', 'CMR_PERIVASC', 'CMR_THYROID_HYPO', 'CMR_THYROID_OTH',\n       'APRDRG', 'APRDRG_Risk_Mortality', 'APRDRG_Severity', 'bed_count',\n       'bed_days_available', 'total_bed_days_available', 'occupancy_rate'],\n      dtype='object')"
          },
          "metadata": {}
        }
      ],
      "execution_count": 5,
      "metadata": {
        "jupyter": {
          "source_hidden": false,
          "outputs_hidden": false
        },
        "nteract": {
          "transient": {
            "deleting": false
          }
        },
        "gather": {
          "logged": 1736127319415
        }
      }
    },
    {
      "cell_type": "code",
      "source": [
        "list(df.columns)"
      ],
      "outputs": [
        {
          "output_type": "execute_result",
          "execution_count": 6,
          "data": {
            "text/plain": "['DISCWT',\n 'HOSP_BEDSIZE',\n 'HOSP_DIVISION',\n 'HOSP_LOCTEACH',\n 'HOSP_NIS',\n 'HOSP_REGION',\n 'H_CONTRL',\n 'NIS_STRATUM',\n 'N_DISC_U',\n 'N_HOSP_U',\n 'S_DISC_U',\n 'S_HOSP_U',\n 'TOTAL_DISC',\n 'YEAR',\n 'AGE',\n 'AMONTH',\n 'AWEEKEND',\n 'DIED',\n 'DISPUNIFORM',\n 'DQTR',\n 'DRG',\n 'DRGVER',\n 'DRG_NoPOA',\n 'ELECTIVE',\n 'FEMALE',\n 'HCUP_ED',\n 'I10_BIRTH',\n 'I10_DELIVERY',\n 'KEY_NIS',\n 'LOS',\n 'MDC',\n 'MDC_NoPOA',\n 'PAY1',\n 'PCLASS_ORPROC',\n 'PL_NCHS',\n 'RACE',\n 'TOTCHG',\n 'TRAN_IN',\n 'TRAN_OUT',\n 'ZIPINC_QRTL',\n 'CMR_AIDS',\n 'CMR_ALCOHOL',\n 'CMR_AUTOIMMUNE',\n 'CMR_CANCER_LYMPH',\n 'CMR_CANCER_LEUK',\n 'CMR_CANCER_METS',\n 'CMR_CANCER_NSITU',\n 'CMR_CANCER_SOLID',\n 'CMR_DEMENTIA',\n 'CMR_DEPRESS',\n 'CMR_DIAB_UNCX',\n 'CMR_DIAB_CX',\n 'CMR_DRUG_ABUSE',\n 'CMR_HTN_CX',\n 'CMR_HTN_UNCX',\n 'CMR_LUNG_CHRONIC',\n 'CMR_OBESE',\n 'CMR_PERIVASC',\n 'CMR_THYROID_HYPO',\n 'CMR_THYROID_OTH',\n 'APRDRG',\n 'APRDRG_Risk_Mortality',\n 'APRDRG_Severity',\n 'bed_count',\n 'bed_days_available',\n 'total_bed_days_available',\n 'occupancy_rate']"
          },
          "metadata": {}
        }
      ],
      "execution_count": 6,
      "metadata": {
        "jupyter": {
          "source_hidden": false,
          "outputs_hidden": false
        },
        "nteract": {
          "transient": {
            "deleting": false
          }
        },
        "gather": {
          "logged": 1736127334016
        }
      }
    },
    {
      "cell_type": "code",
      "source": [
        "# Define the path to the output CSV file\n",
        "output_csv_path = \"transformed_data_v1.csv\"\n",
        "\n",
        "# Read the .dta file in chunks\n",
        "chunksize = 10000  # Adjust the chunk size based on your memory capacity\n",
        "reader = pd.read_stata(data_asset.path, chunksize=chunksize)\n",
        "\n",
        "# Process and save each chunk\n",
        "for i, chunk in enumerate(reader):\n",
        "    # Apply your transformations here\n",
        "    # Example: chunk['new_column'] = chunk['existing_column'] * 2\n",
        "    \n",
        "    # Save the transformed chunk to CSV\n",
        "    if i == 0:\n",
        "        chunk.to_csv(output_csv_path, index=False, mode='w', header=True)\n",
        "    else:\n",
        "        chunk.to_csv(output_csv_path, index=False, mode='a', header=False)\n",
        "\n",
        "print(f\"Transformed data saved to {output_csv_path}\")"
      ],
      "outputs": [
        {
          "output_type": "stream",
          "name": "stdout",
          "text": "Transformed data saved to transformed_data_v1.csv\n"
        }
      ],
      "execution_count": 7,
      "metadata": {
        "jupyter": {
          "source_hidden": false,
          "outputs_hidden": false
        },
        "nteract": {
          "transient": {
            "deleting": false
          }
        },
        "gather": {
          "logged": 1736127632587
        }
      }
    },
    {
      "cell_type": "code",
      "source": [
        "df1 = pd.read_csv(output_csv_path)"
      ],
      "outputs": [],
      "execution_count": 9,
      "metadata": {
        "jupyter": {
          "source_hidden": false,
          "outputs_hidden": false
        },
        "nteract": {
          "transient": {
            "deleting": false
          }
        },
        "gather": {
          "logged": 1736127823340
        }
      }
    },
    {
      "cell_type": "code",
      "source": [
        "df1.describe()"
      ],
      "outputs": [
        {
          "output_type": "execute_result",
          "execution_count": 11,
          "data": {
            "text/plain": "             DISCWT  HOSP_BEDSIZE  HOSP_DIVISION  HOSP_LOCTEACH      HOSP_NIS  \\\ncount  5.688609e+06  5.688609e+06   5.688609e+06   5.688609e+06  5.688609e+06   \nmean   4.999994e+00  2.259361e+00   5.055882e+00   2.654212e+00  5.086042e+04   \nstd    1.132547e-04  8.091570e-01   2.422266e+00   6.299820e-01  2.422972e+04   \nmin    4.993548e+00  1.000000e+00   1.000000e+00   1.000000e+00  1.000100e+04   \n25%    4.999988e+00  2.000000e+00   3.000000e+00   2.000000e+00  3.035700e+04   \n50%    5.000000e+00  2.000000e+00   5.000000e+00   3.000000e+00  5.030100e+04   \n75%    5.000007e+00  3.000000e+00   7.000000e+00   3.000000e+00  7.043400e+04   \nmax    5.004193e+00  3.000000e+00   9.000000e+00   3.000000e+00  9.052700e+04   \n\n        HOSP_REGION      H_CONTRL   NIS_STRATUM      N_DISC_U      N_HOSP_U  \\\ncount  5.688609e+06  5.688609e+06  5.688609e+06  5.688609e+06  5.688609e+06   \nmean   2.608801e+00  2.025326e+00  5.287216e+03  6.711292e+05  4.508812e+01   \nstd    9.963210e-01  5.026176e-01  2.424640e+03  5.857503e+05  3.528467e+01   \nmin    1.000000e+00  1.000000e+00  1.211000e+03  7.740000e+02  2.000000e+00   \n25%    2.000000e+00  2.000000e+00  3.231000e+03  1.665810e+05  1.800000e+01   \n50%    3.000000e+00  2.000000e+00  5.232000e+03  4.988790e+05  4.000000e+01   \n75%    3.000000e+00  2.000000e+00  7.232000e+03  1.041001e+06  6.000000e+01   \nmax    4.000000e+00  3.000000e+00  9.333000e+03  1.906579e+06  1.620000e+02   \n\n       ...  CMR_PERIVASC  CMR_THYROID_HYPO  CMR_THYROID_OTH        APRDRG  \\\ncount  ...  5.688609e+06      5.688609e+06     5.688609e+06  5.688609e+06   \nmean   ...  6.034516e-02      1.283010e-01     1.358082e-02  3.836042e+02   \nstd    ...  2.381252e-01      3.344246e-01     1.157428e-01  2.414268e+02   \nmin    ...  0.000000e+00      0.000000e+00     0.000000e+00  1.000000e+00   \n25%    ...  0.000000e+00      0.000000e+00     0.000000e+00  1.830000e+02   \n50%    ...  0.000000e+00      0.000000e+00     0.000000e+00  3.210000e+02   \n75%    ...  0.000000e+00      0.000000e+00     0.000000e+00  5.600000e+02   \nmax    ...  1.000000e+00      1.000000e+00     1.000000e+00  9.560000e+02   \n\n       APRDRG_Risk_Mortality  APRDRG_Severity     bed_count  \\\ncount           5.688609e+06     5.688609e+06  5.688609e+06   \nmean            2.110781e+00     2.324913e+00  3.040624e+02   \nstd             1.104858e+00     9.924254e-01  1.265151e+02   \nmin             0.000000e+00     0.000000e+00  2.400000e+01   \n25%             1.000000e+00     2.000000e+00  2.000000e+02   \n50%             2.000000e+00     2.000000e+00  3.250000e+02   \n75%             3.000000e+00     3.000000e+00  4.250000e+02   \nmax             4.000000e+00     4.000000e+00  4.500000e+02   \n\n       bed_days_available  total_bed_days_available  occupancy_rate  \ncount        5.688609e+06              5.688609e+06    5.688361e+06  \nmean         9.121871e+03              6.127792e+10    8.112491e-02  \nstd          3.795452e+03              0.000000e+00    1.650704e-01  \nmin          7.200000e+02              6.127792e+10    0.000000e+00  \n25%          6.000000e+03              6.127792e+10    2.057613e-02  \n50%          9.750000e+03              6.127792e+10    4.016064e-02  \n75%          1.275000e+04              6.127792e+10    8.375210e-02  \nmax          1.350000e+04              6.127792e+10    3.847222e+01  \n\n[8 rows x 67 columns]",
            "text/html": "<div>\n<style scoped>\n    .dataframe tbody tr th:only-of-type {\n        vertical-align: middle;\n    }\n\n    .dataframe tbody tr th {\n        vertical-align: top;\n    }\n\n    .dataframe thead th {\n        text-align: right;\n    }\n</style>\n<table border=\"1\" class=\"dataframe\">\n  <thead>\n    <tr style=\"text-align: right;\">\n      <th></th>\n      <th>DISCWT</th>\n      <th>HOSP_BEDSIZE</th>\n      <th>HOSP_DIVISION</th>\n      <th>HOSP_LOCTEACH</th>\n      <th>HOSP_NIS</th>\n      <th>HOSP_REGION</th>\n      <th>H_CONTRL</th>\n      <th>NIS_STRATUM</th>\n      <th>N_DISC_U</th>\n      <th>N_HOSP_U</th>\n      <th>...</th>\n      <th>CMR_PERIVASC</th>\n      <th>CMR_THYROID_HYPO</th>\n      <th>CMR_THYROID_OTH</th>\n      <th>APRDRG</th>\n      <th>APRDRG_Risk_Mortality</th>\n      <th>APRDRG_Severity</th>\n      <th>bed_count</th>\n      <th>bed_days_available</th>\n      <th>total_bed_days_available</th>\n      <th>occupancy_rate</th>\n    </tr>\n  </thead>\n  <tbody>\n    <tr>\n      <th>count</th>\n      <td>5.688609e+06</td>\n      <td>5.688609e+06</td>\n      <td>5.688609e+06</td>\n      <td>5.688609e+06</td>\n      <td>5.688609e+06</td>\n      <td>5.688609e+06</td>\n      <td>5.688609e+06</td>\n      <td>5.688609e+06</td>\n      <td>5.688609e+06</td>\n      <td>5.688609e+06</td>\n      <td>...</td>\n      <td>5.688609e+06</td>\n      <td>5.688609e+06</td>\n      <td>5.688609e+06</td>\n      <td>5.688609e+06</td>\n      <td>5.688609e+06</td>\n      <td>5.688609e+06</td>\n      <td>5.688609e+06</td>\n      <td>5.688609e+06</td>\n      <td>5.688609e+06</td>\n      <td>5.688361e+06</td>\n    </tr>\n    <tr>\n      <th>mean</th>\n      <td>4.999994e+00</td>\n      <td>2.259361e+00</td>\n      <td>5.055882e+00</td>\n      <td>2.654212e+00</td>\n      <td>5.086042e+04</td>\n      <td>2.608801e+00</td>\n      <td>2.025326e+00</td>\n      <td>5.287216e+03</td>\n      <td>6.711292e+05</td>\n      <td>4.508812e+01</td>\n      <td>...</td>\n      <td>6.034516e-02</td>\n      <td>1.283010e-01</td>\n      <td>1.358082e-02</td>\n      <td>3.836042e+02</td>\n      <td>2.110781e+00</td>\n      <td>2.324913e+00</td>\n      <td>3.040624e+02</td>\n      <td>9.121871e+03</td>\n      <td>6.127792e+10</td>\n      <td>8.112491e-02</td>\n    </tr>\n    <tr>\n      <th>std</th>\n      <td>1.132547e-04</td>\n      <td>8.091570e-01</td>\n      <td>2.422266e+00</td>\n      <td>6.299820e-01</td>\n      <td>2.422972e+04</td>\n      <td>9.963210e-01</td>\n      <td>5.026176e-01</td>\n      <td>2.424640e+03</td>\n      <td>5.857503e+05</td>\n      <td>3.528467e+01</td>\n      <td>...</td>\n      <td>2.381252e-01</td>\n      <td>3.344246e-01</td>\n      <td>1.157428e-01</td>\n      <td>2.414268e+02</td>\n      <td>1.104858e+00</td>\n      <td>9.924254e-01</td>\n      <td>1.265151e+02</td>\n      <td>3.795452e+03</td>\n      <td>0.000000e+00</td>\n      <td>1.650704e-01</td>\n    </tr>\n    <tr>\n      <th>min</th>\n      <td>4.993548e+00</td>\n      <td>1.000000e+00</td>\n      <td>1.000000e+00</td>\n      <td>1.000000e+00</td>\n      <td>1.000100e+04</td>\n      <td>1.000000e+00</td>\n      <td>1.000000e+00</td>\n      <td>1.211000e+03</td>\n      <td>7.740000e+02</td>\n      <td>2.000000e+00</td>\n      <td>...</td>\n      <td>0.000000e+00</td>\n      <td>0.000000e+00</td>\n      <td>0.000000e+00</td>\n      <td>1.000000e+00</td>\n      <td>0.000000e+00</td>\n      <td>0.000000e+00</td>\n      <td>2.400000e+01</td>\n      <td>7.200000e+02</td>\n      <td>6.127792e+10</td>\n      <td>0.000000e+00</td>\n    </tr>\n    <tr>\n      <th>25%</th>\n      <td>4.999988e+00</td>\n      <td>2.000000e+00</td>\n      <td>3.000000e+00</td>\n      <td>2.000000e+00</td>\n      <td>3.035700e+04</td>\n      <td>2.000000e+00</td>\n      <td>2.000000e+00</td>\n      <td>3.231000e+03</td>\n      <td>1.665810e+05</td>\n      <td>1.800000e+01</td>\n      <td>...</td>\n      <td>0.000000e+00</td>\n      <td>0.000000e+00</td>\n      <td>0.000000e+00</td>\n      <td>1.830000e+02</td>\n      <td>1.000000e+00</td>\n      <td>2.000000e+00</td>\n      <td>2.000000e+02</td>\n      <td>6.000000e+03</td>\n      <td>6.127792e+10</td>\n      <td>2.057613e-02</td>\n    </tr>\n    <tr>\n      <th>50%</th>\n      <td>5.000000e+00</td>\n      <td>2.000000e+00</td>\n      <td>5.000000e+00</td>\n      <td>3.000000e+00</td>\n      <td>5.030100e+04</td>\n      <td>3.000000e+00</td>\n      <td>2.000000e+00</td>\n      <td>5.232000e+03</td>\n      <td>4.988790e+05</td>\n      <td>4.000000e+01</td>\n      <td>...</td>\n      <td>0.000000e+00</td>\n      <td>0.000000e+00</td>\n      <td>0.000000e+00</td>\n      <td>3.210000e+02</td>\n      <td>2.000000e+00</td>\n      <td>2.000000e+00</td>\n      <td>3.250000e+02</td>\n      <td>9.750000e+03</td>\n      <td>6.127792e+10</td>\n      <td>4.016064e-02</td>\n    </tr>\n    <tr>\n      <th>75%</th>\n      <td>5.000007e+00</td>\n      <td>3.000000e+00</td>\n      <td>7.000000e+00</td>\n      <td>3.000000e+00</td>\n      <td>7.043400e+04</td>\n      <td>3.000000e+00</td>\n      <td>2.000000e+00</td>\n      <td>7.232000e+03</td>\n      <td>1.041001e+06</td>\n      <td>6.000000e+01</td>\n      <td>...</td>\n      <td>0.000000e+00</td>\n      <td>0.000000e+00</td>\n      <td>0.000000e+00</td>\n      <td>5.600000e+02</td>\n      <td>3.000000e+00</td>\n      <td>3.000000e+00</td>\n      <td>4.250000e+02</td>\n      <td>1.275000e+04</td>\n      <td>6.127792e+10</td>\n      <td>8.375210e-02</td>\n    </tr>\n    <tr>\n      <th>max</th>\n      <td>5.004193e+00</td>\n      <td>3.000000e+00</td>\n      <td>9.000000e+00</td>\n      <td>3.000000e+00</td>\n      <td>9.052700e+04</td>\n      <td>4.000000e+00</td>\n      <td>3.000000e+00</td>\n      <td>9.333000e+03</td>\n      <td>1.906579e+06</td>\n      <td>1.620000e+02</td>\n      <td>...</td>\n      <td>1.000000e+00</td>\n      <td>1.000000e+00</td>\n      <td>1.000000e+00</td>\n      <td>9.560000e+02</td>\n      <td>4.000000e+00</td>\n      <td>4.000000e+00</td>\n      <td>4.500000e+02</td>\n      <td>1.350000e+04</td>\n      <td>6.127792e+10</td>\n      <td>3.847222e+01</td>\n    </tr>\n  </tbody>\n</table>\n<p>8 rows × 67 columns</p>\n</div>"
          },
          "metadata": {}
        }
      ],
      "execution_count": 11,
      "metadata": {
        "jupyter": {
          "source_hidden": false,
          "outputs_hidden": false
        },
        "nteract": {
          "transient": {
            "deleting": false
          }
        },
        "gather": {
          "logged": 1736127888028
        }
      }
    },
    {
      "cell_type": "code",
      "source": [
        "df1.value_counts"
      ],
      "outputs": [
        {
          "output_type": "execute_result",
          "execution_count": 13,
          "data": {
            "text/plain": "<bound method DataFrame.value_counts of          DISCWT  HOSP_BEDSIZE  HOSP_DIVISION  HOSP_LOCTEACH  HOSP_NIS  \\\n0           5.0             2              1              3     10001   \n1           5.0             2              1              3     10001   \n2           5.0             2              1              3     10001   \n3           5.0             2              1              3     10001   \n4           5.0             2              1              3     10001   \n...         ...           ...            ...            ...       ...   \n5688604     5.0             3              9              2     90527   \n5688605     5.0             3              9              2     90527   \n5688606     5.0             3              9              2     90527   \n5688607     5.0             3              9              2     90527   \n5688608     5.0             3              9              2     90527   \n\n         HOSP_REGION  H_CONTRL  NIS_STRATUM  N_DISC_U  N_HOSP_U  ...  \\\n0                  1         2         1232    328130        19  ...   \n1                  1         2         1232    328130        19  ...   \n2                  1         2         1232    328130        19  ...   \n3                  1         2         1232    328130        19  ...   \n4                  1         2         1232    328130        19  ...   \n...              ...       ...          ...       ...       ...  ...   \n5688604            4         2         9223    555265        39  ...   \n5688605            4         2         9223    555265        39  ...   \n5688606            4         2         9223    555265        39  ...   \n5688607            4         2         9223    555265        39  ...   \n5688608            4         2         9223    555265        39  ...   \n\n         CMR_PERIVASC  CMR_THYROID_HYPO  CMR_THYROID_OTH  APRDRG  \\\n0                   0                 0                0     248   \n1                   0                 0                0     346   \n2                   0                 1                0      45   \n3                   0                 0                0     751   \n4                   0                 0                0     137   \n...               ...               ...              ...     ...   \n5688604             0                 0                0     560   \n5688605             0                 0                0     137   \n5688606             0                 0                0     231   \n5688607             0                 0                0     426   \n5688608             0                 0                0     241   \n\n         APRDRG_Risk_Mortality  APRDRG_Severity  bed_count  \\\n0                            3                2      424.0   \n1                            1                2      424.0   \n2                            3                3      424.0   \n3                            1                2      424.0   \n4                            2                2      424.0   \n...                        ...              ...        ...   \n5688604                      1                1      175.0   \n5688605                      4                4      175.0   \n5688606                      1                1      175.0   \n5688607                      1                2      175.0   \n5688608                      2                3      175.0   \n\n         bed_days_available  total_bed_days_available  occupancy_rate  \n0                   12720.0              6.127792e+10        0.102201  \n1                   12720.0              6.127792e+10        0.055031  \n2                   12720.0              6.127792e+10        0.047170  \n3                   12720.0              6.127792e+10        0.125786  \n4                   12720.0              6.127792e+10        0.007862  \n...                     ...                       ...             ...  \n5688604              5250.0              6.127792e+10        0.057143  \n5688605              5250.0              6.127792e+10        0.114286  \n5688606              5250.0              6.127792e+10        0.076190  \n5688607              5250.0              6.127792e+10        0.095238  \n5688608              5250.0              6.127792e+10        0.095238  \n\n[5688609 rows x 67 columns]>"
          },
          "metadata": {}
        }
      ],
      "execution_count": 13,
      "metadata": {
        "jupyter": {
          "source_hidden": false,
          "outputs_hidden": false
        },
        "nteract": {
          "transient": {
            "deleting": false
          }
        },
        "gather": {
          "logged": 1736127941038
        }
      }
    },
    {
      "cell_type": "markdown",
      "source": [
        "## Use sample data to understand the dataset \n"
      ],
      "metadata": {
        "nteract": {
          "transient": {
            "deleting": false
          }
        }
      }
    },
    {
      "cell_type": "code",
      "source": [
        "# we want to try to see some sample of thge data to understand what the data looks like and how we can view the entire data.abs\n",
        "\n",
        "sample_df = pd.read_csv(output_csv_path, nrows=10000)"
      ],
      "outputs": [],
      "execution_count": 14,
      "metadata": {
        "jupyter": {
          "source_hidden": false,
          "outputs_hidden": false
        },
        "nteract": {
          "transient": {
            "deleting": false
          }
        },
        "gather": {
          "logged": 1736128266407
        }
      }
    },
    {
      "cell_type": "code",
      "source": [
        "sample_df.head()"
      ],
      "outputs": [
        {
          "output_type": "execute_result",
          "execution_count": 15,
          "data": {
            "text/plain": "   DISCWT  HOSP_BEDSIZE  HOSP_DIVISION  HOSP_LOCTEACH  HOSP_NIS  HOSP_REGION  \\\n0     5.0             2              1              3     10001            1   \n1     5.0             2              1              3     10001            1   \n2     5.0             2              1              3     10001            1   \n3     5.0             2              1              3     10001            1   \n4     5.0             2              1              3     10001            1   \n\n   H_CONTRL  NIS_STRATUM  N_DISC_U  N_HOSP_U  ...  CMR_PERIVASC  \\\n0         2         1232    328130        19  ...             0   \n1         2         1232    328130        19  ...             0   \n2         2         1232    328130        19  ...             0   \n3         2         1232    328130        19  ...             0   \n4         2         1232    328130        19  ...             0   \n\n   CMR_THYROID_HYPO  CMR_THYROID_OTH  APRDRG  APRDRG_Risk_Mortality  \\\n0                 0                0     248                      3   \n1                 0                0     346                      1   \n2                 1                0      45                      3   \n3                 0                0     751                      1   \n4                 0                0     137                      2   \n\n   APRDRG_Severity  bed_count  bed_days_available  total_bed_days_available  \\\n0                2      424.0             12720.0              6.127792e+10   \n1                2      424.0             12720.0              6.127792e+10   \n2                3      424.0             12720.0              6.127792e+10   \n3                2      424.0             12720.0              6.127792e+10   \n4                2      424.0             12720.0              6.127792e+10   \n\n   occupancy_rate  \n0        0.102201  \n1        0.055031  \n2        0.047170  \n3        0.125786  \n4        0.007862  \n\n[5 rows x 67 columns]",
            "text/html": "<div>\n<style scoped>\n    .dataframe tbody tr th:only-of-type {\n        vertical-align: middle;\n    }\n\n    .dataframe tbody tr th {\n        vertical-align: top;\n    }\n\n    .dataframe thead th {\n        text-align: right;\n    }\n</style>\n<table border=\"1\" class=\"dataframe\">\n  <thead>\n    <tr style=\"text-align: right;\">\n      <th></th>\n      <th>DISCWT</th>\n      <th>HOSP_BEDSIZE</th>\n      <th>HOSP_DIVISION</th>\n      <th>HOSP_LOCTEACH</th>\n      <th>HOSP_NIS</th>\n      <th>HOSP_REGION</th>\n      <th>H_CONTRL</th>\n      <th>NIS_STRATUM</th>\n      <th>N_DISC_U</th>\n      <th>N_HOSP_U</th>\n      <th>...</th>\n      <th>CMR_PERIVASC</th>\n      <th>CMR_THYROID_HYPO</th>\n      <th>CMR_THYROID_OTH</th>\n      <th>APRDRG</th>\n      <th>APRDRG_Risk_Mortality</th>\n      <th>APRDRG_Severity</th>\n      <th>bed_count</th>\n      <th>bed_days_available</th>\n      <th>total_bed_days_available</th>\n      <th>occupancy_rate</th>\n    </tr>\n  </thead>\n  <tbody>\n    <tr>\n      <th>0</th>\n      <td>5.0</td>\n      <td>2</td>\n      <td>1</td>\n      <td>3</td>\n      <td>10001</td>\n      <td>1</td>\n      <td>2</td>\n      <td>1232</td>\n      <td>328130</td>\n      <td>19</td>\n      <td>...</td>\n      <td>0</td>\n      <td>0</td>\n      <td>0</td>\n      <td>248</td>\n      <td>3</td>\n      <td>2</td>\n      <td>424.0</td>\n      <td>12720.0</td>\n      <td>6.127792e+10</td>\n      <td>0.102201</td>\n    </tr>\n    <tr>\n      <th>1</th>\n      <td>5.0</td>\n      <td>2</td>\n      <td>1</td>\n      <td>3</td>\n      <td>10001</td>\n      <td>1</td>\n      <td>2</td>\n      <td>1232</td>\n      <td>328130</td>\n      <td>19</td>\n      <td>...</td>\n      <td>0</td>\n      <td>0</td>\n      <td>0</td>\n      <td>346</td>\n      <td>1</td>\n      <td>2</td>\n      <td>424.0</td>\n      <td>12720.0</td>\n      <td>6.127792e+10</td>\n      <td>0.055031</td>\n    </tr>\n    <tr>\n      <th>2</th>\n      <td>5.0</td>\n      <td>2</td>\n      <td>1</td>\n      <td>3</td>\n      <td>10001</td>\n      <td>1</td>\n      <td>2</td>\n      <td>1232</td>\n      <td>328130</td>\n      <td>19</td>\n      <td>...</td>\n      <td>0</td>\n      <td>1</td>\n      <td>0</td>\n      <td>45</td>\n      <td>3</td>\n      <td>3</td>\n      <td>424.0</td>\n      <td>12720.0</td>\n      <td>6.127792e+10</td>\n      <td>0.047170</td>\n    </tr>\n    <tr>\n      <th>3</th>\n      <td>5.0</td>\n      <td>2</td>\n      <td>1</td>\n      <td>3</td>\n      <td>10001</td>\n      <td>1</td>\n      <td>2</td>\n      <td>1232</td>\n      <td>328130</td>\n      <td>19</td>\n      <td>...</td>\n      <td>0</td>\n      <td>0</td>\n      <td>0</td>\n      <td>751</td>\n      <td>1</td>\n      <td>2</td>\n      <td>424.0</td>\n      <td>12720.0</td>\n      <td>6.127792e+10</td>\n      <td>0.125786</td>\n    </tr>\n    <tr>\n      <th>4</th>\n      <td>5.0</td>\n      <td>2</td>\n      <td>1</td>\n      <td>3</td>\n      <td>10001</td>\n      <td>1</td>\n      <td>2</td>\n      <td>1232</td>\n      <td>328130</td>\n      <td>19</td>\n      <td>...</td>\n      <td>0</td>\n      <td>0</td>\n      <td>0</td>\n      <td>137</td>\n      <td>2</td>\n      <td>2</td>\n      <td>424.0</td>\n      <td>12720.0</td>\n      <td>6.127792e+10</td>\n      <td>0.007862</td>\n    </tr>\n  </tbody>\n</table>\n<p>5 rows × 67 columns</p>\n</div>"
          },
          "metadata": {}
        }
      ],
      "execution_count": 15,
      "metadata": {
        "jupyter": {
          "source_hidden": false,
          "outputs_hidden": false
        },
        "nteract": {
          "transient": {
            "deleting": false
          }
        },
        "gather": {
          "logged": 1736128282853
        }
      }
    },
    {
      "cell_type": "code",
      "source": [
        "sample_df.describe()"
      ],
      "outputs": [
        {
          "output_type": "execute_result",
          "execution_count": 16,
          "data": {
            "text/plain": "             DISCWT  HOSP_BEDSIZE  HOSP_DIVISION  HOSP_LOCTEACH      HOSP_NIS  \\\ncount  10000.000000  10000.000000        10000.0   10000.000000  10000.000000   \nmean       4.999971      2.080800            1.0       2.340500  10003.302500   \nstd        0.000092      0.588308            0.0       0.807233      1.934934   \nmin        4.999731      1.000000            1.0       1.000000  10001.000000   \n25%        5.000000      2.000000            1.0       2.000000  10001.000000   \n50%        5.000000      2.000000            1.0       3.000000  10003.000000   \n75%        5.000000      2.000000            1.0       3.000000  10005.000000   \nmax        5.000112      3.000000            1.0       3.000000  10007.000000   \n\n       HOSP_REGION  H_CONTRL   NIS_STRATUM       N_DISC_U      N_HOSP_U  ...  \\\ncount      10000.0   10000.0  10000.000000   10000.000000  10000.000000  ...   \nmean           1.0       2.0   1225.485800  217765.081500     16.468500  ...   \nstd            0.0       0.0      7.899116  133265.105146      7.397018  ...   \nmin            1.0       2.0   1211.000000   37198.000000      5.000000  ...   \n25%            1.0       2.0   1221.000000   88980.000000     11.000000  ...   \n50%            1.0       2.0   1232.000000  328130.000000     19.000000  ...   \n75%            1.0       2.0   1232.000000  328130.000000     19.000000  ...   \nmax            1.0       2.0   1233.000000  456240.000000     38.000000  ...   \n\n       CMR_PERIVASC  CMR_THYROID_HYPO  CMR_THYROID_OTH        APRDRG  \\\ncount  10000.000000      10000.000000     10000.000000  10000.000000   \nmean       0.061300          0.132600         0.012700    384.140500   \nstd        0.239892          0.339159         0.111982    238.381799   \nmin        0.000000          0.000000         0.000000      4.000000   \n25%        0.000000          0.000000         0.000000    192.000000   \n50%        0.000000          0.000000         0.000000    322.000000   \n75%        0.000000          0.000000         0.000000    560.000000   \nmax        1.000000          1.000000         1.000000    956.000000   \n\n       APRDRG_Risk_Mortality  APRDRG_Severity     bed_count  \\\ncount           10000.000000     10000.000000  10000.000000   \nmean                2.031900         2.200000    293.009200   \nstd                 1.049282         0.949152    149.249211   \nmin                 0.000000         0.000000     49.000000   \n25%                 1.000000         1.000000    124.000000   \n50%                 2.000000         2.000000    424.000000   \n75%                 3.000000         3.000000    424.000000   \nmax                 4.000000         4.000000    425.000000   \n\n       bed_days_available  total_bed_days_available  occupancy_rate  \ncount        10000.000000              1.000000e+04    10000.000000  \nmean          8790.276000              6.127792e+10        0.096891  \nstd           4477.476336              0.000000e+00        0.221615  \nmin           1470.000000              6.127792e+10        0.000000  \n25%           3720.000000              6.127792e+10        0.023585  \n50%          12720.000000              6.127792e+10        0.047170  \n75%          12720.000000              6.127792e+10        0.100503  \nmax          12750.000000              6.127792e+10        8.700000  \n\n[8 rows x 67 columns]",
            "text/html": "<div>\n<style scoped>\n    .dataframe tbody tr th:only-of-type {\n        vertical-align: middle;\n    }\n\n    .dataframe tbody tr th {\n        vertical-align: top;\n    }\n\n    .dataframe thead th {\n        text-align: right;\n    }\n</style>\n<table border=\"1\" class=\"dataframe\">\n  <thead>\n    <tr style=\"text-align: right;\">\n      <th></th>\n      <th>DISCWT</th>\n      <th>HOSP_BEDSIZE</th>\n      <th>HOSP_DIVISION</th>\n      <th>HOSP_LOCTEACH</th>\n      <th>HOSP_NIS</th>\n      <th>HOSP_REGION</th>\n      <th>H_CONTRL</th>\n      <th>NIS_STRATUM</th>\n      <th>N_DISC_U</th>\n      <th>N_HOSP_U</th>\n      <th>...</th>\n      <th>CMR_PERIVASC</th>\n      <th>CMR_THYROID_HYPO</th>\n      <th>CMR_THYROID_OTH</th>\n      <th>APRDRG</th>\n      <th>APRDRG_Risk_Mortality</th>\n      <th>APRDRG_Severity</th>\n      <th>bed_count</th>\n      <th>bed_days_available</th>\n      <th>total_bed_days_available</th>\n      <th>occupancy_rate</th>\n    </tr>\n  </thead>\n  <tbody>\n    <tr>\n      <th>count</th>\n      <td>10000.000000</td>\n      <td>10000.000000</td>\n      <td>10000.0</td>\n      <td>10000.000000</td>\n      <td>10000.000000</td>\n      <td>10000.0</td>\n      <td>10000.0</td>\n      <td>10000.000000</td>\n      <td>10000.000000</td>\n      <td>10000.000000</td>\n      <td>...</td>\n      <td>10000.000000</td>\n      <td>10000.000000</td>\n      <td>10000.000000</td>\n      <td>10000.000000</td>\n      <td>10000.000000</td>\n      <td>10000.000000</td>\n      <td>10000.000000</td>\n      <td>10000.000000</td>\n      <td>1.000000e+04</td>\n      <td>10000.000000</td>\n    </tr>\n    <tr>\n      <th>mean</th>\n      <td>4.999971</td>\n      <td>2.080800</td>\n      <td>1.0</td>\n      <td>2.340500</td>\n      <td>10003.302500</td>\n      <td>1.0</td>\n      <td>2.0</td>\n      <td>1225.485800</td>\n      <td>217765.081500</td>\n      <td>16.468500</td>\n      <td>...</td>\n      <td>0.061300</td>\n      <td>0.132600</td>\n      <td>0.012700</td>\n      <td>384.140500</td>\n      <td>2.031900</td>\n      <td>2.200000</td>\n      <td>293.009200</td>\n      <td>8790.276000</td>\n      <td>6.127792e+10</td>\n      <td>0.096891</td>\n    </tr>\n    <tr>\n      <th>std</th>\n      <td>0.000092</td>\n      <td>0.588308</td>\n      <td>0.0</td>\n      <td>0.807233</td>\n      <td>1.934934</td>\n      <td>0.0</td>\n      <td>0.0</td>\n      <td>7.899116</td>\n      <td>133265.105146</td>\n      <td>7.397018</td>\n      <td>...</td>\n      <td>0.239892</td>\n      <td>0.339159</td>\n      <td>0.111982</td>\n      <td>238.381799</td>\n      <td>1.049282</td>\n      <td>0.949152</td>\n      <td>149.249211</td>\n      <td>4477.476336</td>\n      <td>0.000000e+00</td>\n      <td>0.221615</td>\n    </tr>\n    <tr>\n      <th>min</th>\n      <td>4.999731</td>\n      <td>1.000000</td>\n      <td>1.0</td>\n      <td>1.000000</td>\n      <td>10001.000000</td>\n      <td>1.0</td>\n      <td>2.0</td>\n      <td>1211.000000</td>\n      <td>37198.000000</td>\n      <td>5.000000</td>\n      <td>...</td>\n      <td>0.000000</td>\n      <td>0.000000</td>\n      <td>0.000000</td>\n      <td>4.000000</td>\n      <td>0.000000</td>\n      <td>0.000000</td>\n      <td>49.000000</td>\n      <td>1470.000000</td>\n      <td>6.127792e+10</td>\n      <td>0.000000</td>\n    </tr>\n    <tr>\n      <th>25%</th>\n      <td>5.000000</td>\n      <td>2.000000</td>\n      <td>1.0</td>\n      <td>2.000000</td>\n      <td>10001.000000</td>\n      <td>1.0</td>\n      <td>2.0</td>\n      <td>1221.000000</td>\n      <td>88980.000000</td>\n      <td>11.000000</td>\n      <td>...</td>\n      <td>0.000000</td>\n      <td>0.000000</td>\n      <td>0.000000</td>\n      <td>192.000000</td>\n      <td>1.000000</td>\n      <td>1.000000</td>\n      <td>124.000000</td>\n      <td>3720.000000</td>\n      <td>6.127792e+10</td>\n      <td>0.023585</td>\n    </tr>\n    <tr>\n      <th>50%</th>\n      <td>5.000000</td>\n      <td>2.000000</td>\n      <td>1.0</td>\n      <td>3.000000</td>\n      <td>10003.000000</td>\n      <td>1.0</td>\n      <td>2.0</td>\n      <td>1232.000000</td>\n      <td>328130.000000</td>\n      <td>19.000000</td>\n      <td>...</td>\n      <td>0.000000</td>\n      <td>0.000000</td>\n      <td>0.000000</td>\n      <td>322.000000</td>\n      <td>2.000000</td>\n      <td>2.000000</td>\n      <td>424.000000</td>\n      <td>12720.000000</td>\n      <td>6.127792e+10</td>\n      <td>0.047170</td>\n    </tr>\n    <tr>\n      <th>75%</th>\n      <td>5.000000</td>\n      <td>2.000000</td>\n      <td>1.0</td>\n      <td>3.000000</td>\n      <td>10005.000000</td>\n      <td>1.0</td>\n      <td>2.0</td>\n      <td>1232.000000</td>\n      <td>328130.000000</td>\n      <td>19.000000</td>\n      <td>...</td>\n      <td>0.000000</td>\n      <td>0.000000</td>\n      <td>0.000000</td>\n      <td>560.000000</td>\n      <td>3.000000</td>\n      <td>3.000000</td>\n      <td>424.000000</td>\n      <td>12720.000000</td>\n      <td>6.127792e+10</td>\n      <td>0.100503</td>\n    </tr>\n    <tr>\n      <th>max</th>\n      <td>5.000112</td>\n      <td>3.000000</td>\n      <td>1.0</td>\n      <td>3.000000</td>\n      <td>10007.000000</td>\n      <td>1.0</td>\n      <td>2.0</td>\n      <td>1233.000000</td>\n      <td>456240.000000</td>\n      <td>38.000000</td>\n      <td>...</td>\n      <td>1.000000</td>\n      <td>1.000000</td>\n      <td>1.000000</td>\n      <td>956.000000</td>\n      <td>4.000000</td>\n      <td>4.000000</td>\n      <td>425.000000</td>\n      <td>12750.000000</td>\n      <td>6.127792e+10</td>\n      <td>8.700000</td>\n    </tr>\n  </tbody>\n</table>\n<p>8 rows × 67 columns</p>\n</div>"
          },
          "metadata": {}
        }
      ],
      "execution_count": 16,
      "metadata": {
        "jupyter": {
          "source_hidden": false,
          "outputs_hidden": false
        },
        "nteract": {
          "transient": {
            "deleting": false
          }
        },
        "gather": {
          "logged": 1736128300076
        }
      }
    },
    {
      "cell_type": "code",
      "source": [
        "# Check for null values \n",
        "null_counts = sample_df.isnull()\n",
        "null_counts.sum()"
      ],
      "outputs": [
        {
          "output_type": "execute_result",
          "execution_count": 19,
          "data": {
            "text/plain": "DISCWT                      0\nHOSP_BEDSIZE                0\nHOSP_DIVISION               0\nHOSP_LOCTEACH               0\nHOSP_NIS                    0\n                           ..\nAPRDRG_Severity             0\nbed_count                   0\nbed_days_available          0\ntotal_bed_days_available    0\noccupancy_rate              0\nLength: 67, dtype: int64"
          },
          "metadata": {}
        }
      ],
      "execution_count": 19,
      "metadata": {
        "jupyter": {
          "source_hidden": false,
          "outputs_hidden": false
        },
        "nteract": {
          "transient": {
            "deleting": false
          }
        },
        "gather": {
          "logged": 1736128402958
        }
      }
    },
    {
      "cell_type": "code",
      "source": [
        "list(sample_df.dtypes)"
      ],
      "outputs": [
        {
          "output_type": "execute_result",
          "execution_count": 21,
          "data": {
            "text/plain": "[dtype('float64'),\n dtype('int64'),\n dtype('int64'),\n dtype('int64'),\n dtype('int64'),\n dtype('int64'),\n dtype('int64'),\n dtype('int64'),\n dtype('int64'),\n dtype('int64'),\n dtype('int64'),\n dtype('int64'),\n dtype('int64'),\n dtype('int64'),\n dtype('int64'),\n dtype('int64'),\n dtype('int64'),\n dtype('float64'),\n dtype('float64'),\n dtype('int64'),\n dtype('int64'),\n dtype('int64'),\n dtype('int64'),\n dtype('float64'),\n dtype('float64'),\n dtype('int64'),\n dtype('int64'),\n dtype('int64'),\n dtype('float64'),\n dtype('int64'),\n dtype('int64'),\n dtype('int64'),\n dtype('float64'),\n dtype('int64'),\n dtype('float64'),\n dtype('float64'),\n dtype('float64'),\n dtype('float64'),\n dtype('float64'),\n dtype('float64'),\n dtype('int64'),\n dtype('int64'),\n dtype('int64'),\n dtype('int64'),\n dtype('int64'),\n dtype('int64'),\n dtype('int64'),\n dtype('int64'),\n dtype('int64'),\n dtype('int64'),\n dtype('int64'),\n dtype('int64'),\n dtype('int64'),\n dtype('int64'),\n dtype('int64'),\n dtype('int64'),\n dtype('int64'),\n dtype('int64'),\n dtype('int64'),\n dtype('int64'),\n dtype('int64'),\n dtype('int64'),\n dtype('int64'),\n dtype('float64'),\n dtype('float64'),\n dtype('float64'),\n dtype('float64')]"
          },
          "metadata": {}
        }
      ],
      "execution_count": 21,
      "metadata": {
        "jupyter": {
          "source_hidden": false,
          "outputs_hidden": false
        },
        "nteract": {
          "transient": {
            "deleting": false
          }
        },
        "gather": {
          "logged": 1736128456307
        }
      }
    },
    {
      "cell_type": "code",
      "source": [
        "# lets check for correlation matrix\n",
        "\n",
        "correlation_matrix = sample_df.corr()\n",
        "print(correlation_matrix)"
      ],
      "outputs": [
        {
          "output_type": "stream",
          "name": "stdout",
          "text": "                            DISCWT  HOSP_BEDSIZE  HOSP_DIVISION  \\\nDISCWT                    1.000000     -0.661518            NaN   \nHOSP_BEDSIZE             -0.661518      1.000000            NaN   \nHOSP_DIVISION                  NaN           NaN            NaN   \nHOSP_LOCTEACH             0.678279     -0.327706            NaN   \nHOSP_NIS                 -0.060696      0.157314            NaN   \n...                            ...           ...            ...   \nAPRDRG_Severity           0.081241     -0.045062            NaN   \nbed_count                 0.449594     -0.078099            NaN   \nbed_days_available        0.449594     -0.078099            NaN   \ntotal_bed_days_available       NaN           NaN            NaN   \noccupancy_rate           -0.260807      0.144167            NaN   \n\n                          HOSP_LOCTEACH  HOSP_NIS  HOSP_REGION  H_CONTRL  \\\nDISCWT                         0.678279 -0.060696          NaN       NaN   \nHOSP_BEDSIZE                  -0.327706  0.157314          NaN       NaN   \nHOSP_DIVISION                       NaN       NaN          NaN       NaN   \nHOSP_LOCTEACH                  1.000000 -0.076068          NaN       NaN   \nHOSP_NIS                      -0.076068  1.000000          NaN       NaN   \n...                                 ...       ...          ...       ...   \nAPRDRG_Severity                0.024148  0.071228          NaN       NaN   \nbed_count                      0.956316 -0.075073          NaN       NaN   \nbed_days_available             0.956316 -0.075073          NaN       NaN   \ntotal_bed_days_available            NaN       NaN          NaN       NaN   \noccupancy_rate                -0.331514  0.000168          NaN       NaN   \n\n                          NIS_STRATUM  N_DISC_U  N_HOSP_U  ...  CMR_PERIVASC  \\\nDISCWT                       0.643884  0.421765  0.499429  ...      0.021056   \nHOSP_BEDSIZE                -0.260414 -0.050834 -0.895173  ...     -0.013840   \nHOSP_DIVISION                     NaN       NaN       NaN  ...           NaN   \nHOSP_LOCTEACH                0.997521  0.931505  0.457678  ...      0.027513   \nHOSP_NIS                    -0.066019 -0.085082 -0.231001  ...      0.037181   \n...                               ...       ...       ...  ...           ...   \nAPRDRG_Severity              0.021321  0.002326  0.019757  ...      0.069135   \nbed_count                    0.971470  0.976676  0.283051  ...      0.024872   \nbed_days_available           0.971470  0.976676  0.283051  ...      0.024872   \ntotal_bed_days_available          NaN       NaN       NaN  ...           NaN   \noccupancy_rate              -0.328046 -0.286225 -0.160600  ...      0.003609   \n\n                          CMR_THYROID_HYPO  CMR_THYROID_OTH    APRDRG  \\\nDISCWT                            0.043636         0.014124 -0.024466   \nHOSP_BEDSIZE                     -0.047687        -0.015578  0.025604   \nHOSP_DIVISION                          NaN              NaN       NaN   \nHOSP_LOCTEACH                     0.027213         0.006369 -0.028494   \nHOSP_NIS                         -0.002608         0.014577 -0.114597   \n...                                    ...              ...       ...   \nAPRDRG_Severity                   0.039083         0.004328 -0.039783   \nbed_count                         0.014895         0.000065 -0.022452   \nbed_days_available                0.014895         0.000065 -0.022452   \ntotal_bed_days_available               NaN              NaN       NaN   \noccupancy_rate                   -0.007878        -0.000911  0.040127   \n\n                          APRDRG_Risk_Mortality  APRDRG_Severity  bed_count  \\\nDISCWT                                 0.082629         0.081241   0.449594   \nHOSP_BEDSIZE                          -0.048729        -0.045062  -0.078099   \nHOSP_DIVISION                               NaN              NaN        NaN   \nHOSP_LOCTEACH                          0.023423         0.024148   0.956316   \nHOSP_NIS                               0.079184         0.071228  -0.075073   \n...                                         ...              ...        ...   \nAPRDRG_Severity                        0.803170         1.000000  -0.001364   \nbed_count                             -0.001996        -0.001364   1.000000   \nbed_days_available                    -0.001996        -0.001364   1.000000   \ntotal_bed_days_available                    NaN              NaN        NaN   \noccupancy_rate                         0.146793         0.173269  -0.302210   \n\n                          bed_days_available  total_bed_days_available  \\\nDISCWT                              0.449594                       NaN   \nHOSP_BEDSIZE                       -0.078099                       NaN   \nHOSP_DIVISION                            NaN                       NaN   \nHOSP_LOCTEACH                       0.956316                       NaN   \nHOSP_NIS                           -0.075073                       NaN   \n...                                      ...                       ...   \nAPRDRG_Severity                    -0.001364                       NaN   \nbed_count                           1.000000                       NaN   \nbed_days_available                  1.000000                       NaN   \ntotal_bed_days_available                 NaN                       NaN   \noccupancy_rate                     -0.302210                       NaN   \n\n                          occupancy_rate  \nDISCWT                         -0.260807  \nHOSP_BEDSIZE                    0.144167  \nHOSP_DIVISION                        NaN  \nHOSP_LOCTEACH                  -0.331514  \nHOSP_NIS                        0.000168  \n...                                  ...  \nAPRDRG_Severity                 0.173269  \nbed_count                      -0.302210  \nbed_days_available             -0.302210  \ntotal_bed_days_available             NaN  \noccupancy_rate                  1.000000  \n\n[67 rows x 67 columns]\n"
        }
      ],
      "execution_count": 22,
      "metadata": {
        "jupyter": {
          "source_hidden": false,
          "outputs_hidden": false
        },
        "nteract": {
          "transient": {
            "deleting": false
          }
        },
        "gather": {
          "logged": 1736129040103
        }
      }
    },
    {
      "cell_type": "code",
      "source": [
        "sample_df[\"LOS\"].dtype"
      ],
      "outputs": [
        {
          "output_type": "execute_result",
          "execution_count": 23,
          "data": {
            "text/plain": "dtype('int64')"
          },
          "metadata": {}
        }
      ],
      "execution_count": 23,
      "metadata": {
        "jupyter": {
          "source_hidden": false,
          "outputs_hidden": false
        },
        "nteract": {
          "transient": {
            "deleting": false
          }
        },
        "gather": {
          "logged": 1736129482708
        }
      }
    },
    {
      "cell_type": "code",
      "source": [
        "# Check unique values in each columns\n",
        "unique_counts = sample_df.nunique()\n",
        "print(unique_counts)"
      ],
      "outputs": [],
      "execution_count": 24,
      "metadata": {
        "jupyter": {
          "source_hidden": false,
          "outputs_hidden": false
        },
        "nteract": {
          "transient": {
            "deleting": false
          }
        },
        "gather": {
          "logged": 1736129703479
        }
      }
    },
    {
      "cell_type": "code",
      "source": [
        "unique_counts"
      ],
      "outputs": [
        {
          "output_type": "execute_result",
          "execution_count": 25,
          "data": {
            "text/plain": "DISCWT                        4\nHOSP_BEDSIZE                  3\nHOSP_DIVISION                 1\nHOSP_LOCTEACH                 3\nHOSP_NIS                      7\n                           ... \nAPRDRG_Severity               5\nbed_count                     6\nbed_days_available            6\ntotal_bed_days_available      1\noccupancy_rate              243\nLength: 67, dtype: int64"
          },
          "metadata": {}
        }
      ],
      "execution_count": 25,
      "metadata": {
        "jupyter": {
          "source_hidden": false,
          "outputs_hidden": false
        },
        "nteract": {
          "transient": {
            "deleting": false
          }
        },
        "gather": {
          "logged": 1736129972692
        }
      }
    },
    {
      "cell_type": "code",
      "source": [
        "# Identify columns with high correlation to the target variable (if known)\n",
        "# Example: target_column = 'target'\n",
        "# high_corr_columns = correlation_matrix[target_column][correlation_matrix[target_column].abs() > 0.5].index\n",
        "# print(f\"Columns with high correlation to {target_column}: {high_corr_columns}\")"
      ],
      "outputs": [],
      "execution_count": null,
      "metadata": {
        "jupyter": {
          "source_hidden": false,
          "outputs_hidden": false
        },
        "nteract": {
          "transient": {
            "deleting": false
          }
        }
      }
    }
  ],
  "metadata": {
    "kernelspec": {
      "name": "python310-sdkv2",
      "language": "python",
      "display_name": "Python 3.10 - SDK v2"
    },
    "language_info": {
      "name": "python",
      "version": "3.10.14",
      "mimetype": "text/x-python",
      "codemirror_mode": {
        "name": "ipython",
        "version": 3
      },
      "pygments_lexer": "ipython3",
      "nbconvert_exporter": "python",
      "file_extension": ".py"
    },
    "microsoft": {
      "ms_spell_check": {
        "ms_spell_check_language": "en"
      },
      "host": {
        "AzureML": {
          "notebookHasBeenCompleted": true
        }
      }
    },
    "kernel_info": {
      "name": "python310-sdkv2"
    },
    "nteract": {
      "version": "nteract-front-end@1.0.0"
    }
  },
  "nbformat": 4,
  "nbformat_minor": 2
}