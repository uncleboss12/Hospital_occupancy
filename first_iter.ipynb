{
 "cells": [
  {
   "cell_type": "code",
   "execution_count": 2,
   "metadata": {
    "gather": {
     "logged": 1736127191012
    }
   },
   "outputs": [
    {
     "name": "stderr",
     "output_type": "stream",
     "text": [
      "Found the config file in: /config.json\n"
     ]
    }
   ],
   "source": [
    "import pandas as pd\n",
    "from azure.ai.ml import MLClient\n",
    "from azure.identity import DefaultAzureCredential\n",
    "\n",
    "ml_client = MLClient.from_config(credential=DefaultAzureCredential())\n",
    "data_asset = ml_client.data.get(\"hospital\", version=\"1\")\n",
    "\n",
    "df = pd.read_stata(data_asset.path)"
   ]
  },
  {
   "cell_type": "code",
   "execution_count": 3,
   "metadata": {
    "collapsed": false,
    "gather": {
     "logged": 1736127290128
    },
    "jupyter": {
     "outputs_hidden": false,
     "source_hidden": false
    },
    "nteract": {
     "transient": {
      "deleting": false
     }
    }
   },
   "outputs": [
    {
     "data": {
      "text/html": [
       "<div>\n",
       "<style scoped>\n",
       "    .dataframe tbody tr th:only-of-type {\n",
       "        vertical-align: middle;\n",
       "    }\n",
       "\n",
       "    .dataframe tbody tr th {\n",
       "        vertical-align: top;\n",
       "    }\n",
       "\n",
       "    .dataframe thead th {\n",
       "        text-align: right;\n",
       "    }\n",
       "</style>\n",
       "<table border=\"1\" class=\"dataframe\">\n",
       "  <thead>\n",
       "    <tr style=\"text-align: right;\">\n",
       "      <th></th>\n",
       "      <th>DISCWT</th>\n",
       "      <th>HOSP_BEDSIZE</th>\n",
       "      <th>HOSP_DIVISION</th>\n",
       "      <th>HOSP_LOCTEACH</th>\n",
       "      <th>HOSP_NIS</th>\n",
       "      <th>HOSP_REGION</th>\n",
       "      <th>H_CONTRL</th>\n",
       "      <th>NIS_STRATUM</th>\n",
       "      <th>N_DISC_U</th>\n",
       "      <th>N_HOSP_U</th>\n",
       "      <th>...</th>\n",
       "      <th>CMR_PERIVASC</th>\n",
       "      <th>CMR_THYROID_HYPO</th>\n",
       "      <th>CMR_THYROID_OTH</th>\n",
       "      <th>APRDRG</th>\n",
       "      <th>APRDRG_Risk_Mortality</th>\n",
       "      <th>APRDRG_Severity</th>\n",
       "      <th>bed_count</th>\n",
       "      <th>bed_days_available</th>\n",
       "      <th>total_bed_days_available</th>\n",
       "      <th>occupancy_rate</th>\n",
       "    </tr>\n",
       "  </thead>\n",
       "  <tbody>\n",
       "    <tr>\n",
       "      <th>0</th>\n",
       "      <td>5.0</td>\n",
       "      <td>2</td>\n",
       "      <td>1</td>\n",
       "      <td>3</td>\n",
       "      <td>10001</td>\n",
       "      <td>1</td>\n",
       "      <td>2</td>\n",
       "      <td>1232</td>\n",
       "      <td>328130</td>\n",
       "      <td>19</td>\n",
       "      <td>...</td>\n",
       "      <td>0</td>\n",
       "      <td>0</td>\n",
       "      <td>0</td>\n",
       "      <td>248</td>\n",
       "      <td>3</td>\n",
       "      <td>2</td>\n",
       "      <td>424.0</td>\n",
       "      <td>12720.0</td>\n",
       "      <td>6.127792e+10</td>\n",
       "      <td>0.102201</td>\n",
       "    </tr>\n",
       "    <tr>\n",
       "      <th>1</th>\n",
       "      <td>5.0</td>\n",
       "      <td>2</td>\n",
       "      <td>1</td>\n",
       "      <td>3</td>\n",
       "      <td>10001</td>\n",
       "      <td>1</td>\n",
       "      <td>2</td>\n",
       "      <td>1232</td>\n",
       "      <td>328130</td>\n",
       "      <td>19</td>\n",
       "      <td>...</td>\n",
       "      <td>0</td>\n",
       "      <td>0</td>\n",
       "      <td>0</td>\n",
       "      <td>346</td>\n",
       "      <td>1</td>\n",
       "      <td>2</td>\n",
       "      <td>424.0</td>\n",
       "      <td>12720.0</td>\n",
       "      <td>6.127792e+10</td>\n",
       "      <td>0.055031</td>\n",
       "    </tr>\n",
       "    <tr>\n",
       "      <th>2</th>\n",
       "      <td>5.0</td>\n",
       "      <td>2</td>\n",
       "      <td>1</td>\n",
       "      <td>3</td>\n",
       "      <td>10001</td>\n",
       "      <td>1</td>\n",
       "      <td>2</td>\n",
       "      <td>1232</td>\n",
       "      <td>328130</td>\n",
       "      <td>19</td>\n",
       "      <td>...</td>\n",
       "      <td>0</td>\n",
       "      <td>1</td>\n",
       "      <td>0</td>\n",
       "      <td>45</td>\n",
       "      <td>3</td>\n",
       "      <td>3</td>\n",
       "      <td>424.0</td>\n",
       "      <td>12720.0</td>\n",
       "      <td>6.127792e+10</td>\n",
       "      <td>0.047170</td>\n",
       "    </tr>\n",
       "    <tr>\n",
       "      <th>3</th>\n",
       "      <td>5.0</td>\n",
       "      <td>2</td>\n",
       "      <td>1</td>\n",
       "      <td>3</td>\n",
       "      <td>10001</td>\n",
       "      <td>1</td>\n",
       "      <td>2</td>\n",
       "      <td>1232</td>\n",
       "      <td>328130</td>\n",
       "      <td>19</td>\n",
       "      <td>...</td>\n",
       "      <td>0</td>\n",
       "      <td>0</td>\n",
       "      <td>0</td>\n",
       "      <td>751</td>\n",
       "      <td>1</td>\n",
       "      <td>2</td>\n",
       "      <td>424.0</td>\n",
       "      <td>12720.0</td>\n",
       "      <td>6.127792e+10</td>\n",
       "      <td>0.125786</td>\n",
       "    </tr>\n",
       "    <tr>\n",
       "      <th>4</th>\n",
       "      <td>5.0</td>\n",
       "      <td>2</td>\n",
       "      <td>1</td>\n",
       "      <td>3</td>\n",
       "      <td>10001</td>\n",
       "      <td>1</td>\n",
       "      <td>2</td>\n",
       "      <td>1232</td>\n",
       "      <td>328130</td>\n",
       "      <td>19</td>\n",
       "      <td>...</td>\n",
       "      <td>0</td>\n",
       "      <td>0</td>\n",
       "      <td>0</td>\n",
       "      <td>137</td>\n",
       "      <td>2</td>\n",
       "      <td>2</td>\n",
       "      <td>424.0</td>\n",
       "      <td>12720.0</td>\n",
       "      <td>6.127792e+10</td>\n",
       "      <td>0.007862</td>\n",
       "    </tr>\n",
       "  </tbody>\n",
       "</table>\n",
       "<p>5 rows × 67 columns</p>\n",
       "</div>"
      ],
      "text/plain": [
       "   DISCWT  HOSP_BEDSIZE  HOSP_DIVISION  HOSP_LOCTEACH  HOSP_NIS  HOSP_REGION  \\\n",
       "0     5.0             2              1              3     10001            1   \n",
       "1     5.0             2              1              3     10001            1   \n",
       "2     5.0             2              1              3     10001            1   \n",
       "3     5.0             2              1              3     10001            1   \n",
       "4     5.0             2              1              3     10001            1   \n",
       "\n",
       "   H_CONTRL  NIS_STRATUM  N_DISC_U  N_HOSP_U  ...  CMR_PERIVASC  \\\n",
       "0         2         1232    328130        19  ...             0   \n",
       "1         2         1232    328130        19  ...             0   \n",
       "2         2         1232    328130        19  ...             0   \n",
       "3         2         1232    328130        19  ...             0   \n",
       "4         2         1232    328130        19  ...             0   \n",
       "\n",
       "   CMR_THYROID_HYPO  CMR_THYROID_OTH  APRDRG  APRDRG_Risk_Mortality  \\\n",
       "0                 0                0     248                      3   \n",
       "1                 0                0     346                      1   \n",
       "2                 1                0      45                      3   \n",
       "3                 0                0     751                      1   \n",
       "4                 0                0     137                      2   \n",
       "\n",
       "   APRDRG_Severity  bed_count  bed_days_available  total_bed_days_available  \\\n",
       "0                2      424.0             12720.0              6.127792e+10   \n",
       "1                2      424.0             12720.0              6.127792e+10   \n",
       "2                3      424.0             12720.0              6.127792e+10   \n",
       "3                2      424.0             12720.0              6.127792e+10   \n",
       "4                2      424.0             12720.0              6.127792e+10   \n",
       "\n",
       "   occupancy_rate  \n",
       "0        0.102201  \n",
       "1        0.055031  \n",
       "2        0.047170  \n",
       "3        0.125786  \n",
       "4        0.007862  \n",
       "\n",
       "[5 rows x 67 columns]"
      ]
     },
     "execution_count": 3,
     "metadata": {},
     "output_type": "execute_result"
    }
   ],
   "source": [
    "df.head(5)"
   ]
  },
  {
   "cell_type": "code",
   "execution_count": 4,
   "metadata": {
    "collapsed": false,
    "gather": {
     "logged": 1736127298535
    },
    "jupyter": {
     "outputs_hidden": false,
     "source_hidden": false
    },
    "nteract": {
     "transient": {
      "deleting": false
     }
    }
   },
   "outputs": [
    {
     "data": {
      "text/plain": [
       "(5688609, 67)"
      ]
     },
     "execution_count": 4,
     "metadata": {},
     "output_type": "execute_result"
    }
   ],
   "source": [
    "df.shape"
   ]
  },
  {
   "cell_type": "code",
   "execution_count": 5,
   "metadata": {
    "collapsed": false,
    "gather": {
     "logged": 1736127319415
    },
    "jupyter": {
     "outputs_hidden": false,
     "source_hidden": false
    },
    "nteract": {
     "transient": {
      "deleting": false
     }
    }
   },
   "outputs": [
    {
     "data": {
      "text/plain": [
       "Index(['DISCWT', 'HOSP_BEDSIZE', 'HOSP_DIVISION', 'HOSP_LOCTEACH', 'HOSP_NIS',\n",
       "       'HOSP_REGION', 'H_CONTRL', 'NIS_STRATUM', 'N_DISC_U', 'N_HOSP_U',\n",
       "       'S_DISC_U', 'S_HOSP_U', 'TOTAL_DISC', 'YEAR', 'AGE', 'AMONTH',\n",
       "       'AWEEKEND', 'DIED', 'DISPUNIFORM', 'DQTR', 'DRG', 'DRGVER', 'DRG_NoPOA',\n",
       "       'ELECTIVE', 'FEMALE', 'HCUP_ED', 'I10_BIRTH', 'I10_DELIVERY', 'KEY_NIS',\n",
       "       'LOS', 'MDC', 'MDC_NoPOA', 'PAY1', 'PCLASS_ORPROC', 'PL_NCHS', 'RACE',\n",
       "       'TOTCHG', 'TRAN_IN', 'TRAN_OUT', 'ZIPINC_QRTL', 'CMR_AIDS',\n",
       "       'CMR_ALCOHOL', 'CMR_AUTOIMMUNE', 'CMR_CANCER_LYMPH', 'CMR_CANCER_LEUK',\n",
       "       'CMR_CANCER_METS', 'CMR_CANCER_NSITU', 'CMR_CANCER_SOLID',\n",
       "       'CMR_DEMENTIA', 'CMR_DEPRESS', 'CMR_DIAB_UNCX', 'CMR_DIAB_CX',\n",
       "       'CMR_DRUG_ABUSE', 'CMR_HTN_CX', 'CMR_HTN_UNCX', 'CMR_LUNG_CHRONIC',\n",
       "       'CMR_OBESE', 'CMR_PERIVASC', 'CMR_THYROID_HYPO', 'CMR_THYROID_OTH',\n",
       "       'APRDRG', 'APRDRG_Risk_Mortality', 'APRDRG_Severity', 'bed_count',\n",
       "       'bed_days_available', 'total_bed_days_available', 'occupancy_rate'],\n",
       "      dtype='object')"
      ]
     },
     "execution_count": 5,
     "metadata": {},
     "output_type": "execute_result"
    }
   ],
   "source": [
    "df.columns"
   ]
  },
  {
   "cell_type": "code",
   "execution_count": 6,
   "metadata": {
    "collapsed": false,
    "gather": {
     "logged": 1736127334016
    },
    "jupyter": {
     "outputs_hidden": false,
     "source_hidden": false
    },
    "nteract": {
     "transient": {
      "deleting": false
     }
    }
   },
   "outputs": [
    {
     "data": {
      "text/plain": [
       "['DISCWT',\n",
       " 'HOSP_BEDSIZE',\n",
       " 'HOSP_DIVISION',\n",
       " 'HOSP_LOCTEACH',\n",
       " 'HOSP_NIS',\n",
       " 'HOSP_REGION',\n",
       " 'H_CONTRL',\n",
       " 'NIS_STRATUM',\n",
       " 'N_DISC_U',\n",
       " 'N_HOSP_U',\n",
       " 'S_DISC_U',\n",
       " 'S_HOSP_U',\n",
       " 'TOTAL_DISC',\n",
       " 'YEAR',\n",
       " 'AGE',\n",
       " 'AMONTH',\n",
       " 'AWEEKEND',\n",
       " 'DIED',\n",
       " 'DISPUNIFORM',\n",
       " 'DQTR',\n",
       " 'DRG',\n",
       " 'DRGVER',\n",
       " 'DRG_NoPOA',\n",
       " 'ELECTIVE',\n",
       " 'FEMALE',\n",
       " 'HCUP_ED',\n",
       " 'I10_BIRTH',\n",
       " 'I10_DELIVERY',\n",
       " 'KEY_NIS',\n",
       " 'LOS',\n",
       " 'MDC',\n",
       " 'MDC_NoPOA',\n",
       " 'PAY1',\n",
       " 'PCLASS_ORPROC',\n",
       " 'PL_NCHS',\n",
       " 'RACE',\n",
       " 'TOTCHG',\n",
       " 'TRAN_IN',\n",
       " 'TRAN_OUT',\n",
       " 'ZIPINC_QRTL',\n",
       " 'CMR_AIDS',\n",
       " 'CMR_ALCOHOL',\n",
       " 'CMR_AUTOIMMUNE',\n",
       " 'CMR_CANCER_LYMPH',\n",
       " 'CMR_CANCER_LEUK',\n",
       " 'CMR_CANCER_METS',\n",
       " 'CMR_CANCER_NSITU',\n",
       " 'CMR_CANCER_SOLID',\n",
       " 'CMR_DEMENTIA',\n",
       " 'CMR_DEPRESS',\n",
       " 'CMR_DIAB_UNCX',\n",
       " 'CMR_DIAB_CX',\n",
       " 'CMR_DRUG_ABUSE',\n",
       " 'CMR_HTN_CX',\n",
       " 'CMR_HTN_UNCX',\n",
       " 'CMR_LUNG_CHRONIC',\n",
       " 'CMR_OBESE',\n",
       " 'CMR_PERIVASC',\n",
       " 'CMR_THYROID_HYPO',\n",
       " 'CMR_THYROID_OTH',\n",
       " 'APRDRG',\n",
       " 'APRDRG_Risk_Mortality',\n",
       " 'APRDRG_Severity',\n",
       " 'bed_count',\n",
       " 'bed_days_available',\n",
       " 'total_bed_days_available',\n",
       " 'occupancy_rate']"
      ]
     },
     "execution_count": 6,
     "metadata": {},
     "output_type": "execute_result"
    }
   ],
   "source": [
    "list(df.columns)"
   ]
  },
  {
   "cell_type": "code",
   "execution_count": 7,
   "metadata": {
    "collapsed": false,
    "gather": {
     "logged": 1736127632587
    },
    "jupyter": {
     "outputs_hidden": false,
     "source_hidden": false
    },
    "nteract": {
     "transient": {
      "deleting": false
     }
    }
   },
   "outputs": [
    {
     "name": "stdout",
     "output_type": "stream",
     "text": [
      "Transformed data saved to transformed_data_v1.csv\n"
     ]
    }
   ],
   "source": [
    "# Define the path to the output CSV file\n",
    "output_csv_path = \"transformed_data_v1.csv\"\n",
    "\n",
    "# Read the .dta file in chunks\n",
    "chunksize = 10000  # Adjust the chunk size based on your memory capacity\n",
    "reader = pd.read_stata(data_asset.path, chunksize=chunksize)\n",
    "\n",
    "# Process and save each chunk\n",
    "for i, chunk in enumerate(reader):\n",
    "    # Apply your transformations here\n",
    "    # Example: chunk['new_column'] = chunk['existing_column'] * 2\n",
    "    \n",
    "    # Save the transformed chunk to CSV\n",
    "    if i == 0:\n",
    "        chunk.to_csv(output_csv_path, index=False, mode='w', header=True)\n",
    "    else:\n",
    "        chunk.to_csv(output_csv_path, index=False, mode='a', header=False)\n",
    "\n",
    "print(f\"Transformed data saved to {output_csv_path}\")"
   ]
  },
  {
   "cell_type": "code",
   "execution_count": 9,
   "metadata": {
    "collapsed": false,
    "gather": {
     "logged": 1736127823340
    },
    "jupyter": {
     "outputs_hidden": false,
     "source_hidden": false
    },
    "nteract": {
     "transient": {
      "deleting": false
     }
    }
   },
   "outputs": [],
   "source": [
    "df1 = pd.read_csv(output_csv_path)"
   ]
  },
  {
   "cell_type": "code",
   "execution_count": 11,
   "metadata": {
    "collapsed": false,
    "gather": {
     "logged": 1736127888028
    },
    "jupyter": {
     "outputs_hidden": false,
     "source_hidden": false
    },
    "nteract": {
     "transient": {
      "deleting": false
     }
    }
   },
   "outputs": [
    {
     "data": {
      "text/html": [
       "<div>\n",
       "<style scoped>\n",
       "    .dataframe tbody tr th:only-of-type {\n",
       "        vertical-align: middle;\n",
       "    }\n",
       "\n",
       "    .dataframe tbody tr th {\n",
       "        vertical-align: top;\n",
       "    }\n",
       "\n",
       "    .dataframe thead th {\n",
       "        text-align: right;\n",
       "    }\n",
       "</style>\n",
       "<table border=\"1\" class=\"dataframe\">\n",
       "  <thead>\n",
       "    <tr style=\"text-align: right;\">\n",
       "      <th></th>\n",
       "      <th>DISCWT</th>\n",
       "      <th>HOSP_BEDSIZE</th>\n",
       "      <th>HOSP_DIVISION</th>\n",
       "      <th>HOSP_LOCTEACH</th>\n",
       "      <th>HOSP_NIS</th>\n",
       "      <th>HOSP_REGION</th>\n",
       "      <th>H_CONTRL</th>\n",
       "      <th>NIS_STRATUM</th>\n",
       "      <th>N_DISC_U</th>\n",
       "      <th>N_HOSP_U</th>\n",
       "      <th>...</th>\n",
       "      <th>CMR_PERIVASC</th>\n",
       "      <th>CMR_THYROID_HYPO</th>\n",
       "      <th>CMR_THYROID_OTH</th>\n",
       "      <th>APRDRG</th>\n",
       "      <th>APRDRG_Risk_Mortality</th>\n",
       "      <th>APRDRG_Severity</th>\n",
       "      <th>bed_count</th>\n",
       "      <th>bed_days_available</th>\n",
       "      <th>total_bed_days_available</th>\n",
       "      <th>occupancy_rate</th>\n",
       "    </tr>\n",
       "  </thead>\n",
       "  <tbody>\n",
       "    <tr>\n",
       "      <th>count</th>\n",
       "      <td>5.688609e+06</td>\n",
       "      <td>5.688609e+06</td>\n",
       "      <td>5.688609e+06</td>\n",
       "      <td>5.688609e+06</td>\n",
       "      <td>5.688609e+06</td>\n",
       "      <td>5.688609e+06</td>\n",
       "      <td>5.688609e+06</td>\n",
       "      <td>5.688609e+06</td>\n",
       "      <td>5.688609e+06</td>\n",
       "      <td>5.688609e+06</td>\n",
       "      <td>...</td>\n",
       "      <td>5.688609e+06</td>\n",
       "      <td>5.688609e+06</td>\n",
       "      <td>5.688609e+06</td>\n",
       "      <td>5.688609e+06</td>\n",
       "      <td>5.688609e+06</td>\n",
       "      <td>5.688609e+06</td>\n",
       "      <td>5.688609e+06</td>\n",
       "      <td>5.688609e+06</td>\n",
       "      <td>5.688609e+06</td>\n",
       "      <td>5.688361e+06</td>\n",
       "    </tr>\n",
       "    <tr>\n",
       "      <th>mean</th>\n",
       "      <td>4.999994e+00</td>\n",
       "      <td>2.259361e+00</td>\n",
       "      <td>5.055882e+00</td>\n",
       "      <td>2.654212e+00</td>\n",
       "      <td>5.086042e+04</td>\n",
       "      <td>2.608801e+00</td>\n",
       "      <td>2.025326e+00</td>\n",
       "      <td>5.287216e+03</td>\n",
       "      <td>6.711292e+05</td>\n",
       "      <td>4.508812e+01</td>\n",
       "      <td>...</td>\n",
       "      <td>6.034516e-02</td>\n",
       "      <td>1.283010e-01</td>\n",
       "      <td>1.358082e-02</td>\n",
       "      <td>3.836042e+02</td>\n",
       "      <td>2.110781e+00</td>\n",
       "      <td>2.324913e+00</td>\n",
       "      <td>3.040624e+02</td>\n",
       "      <td>9.121871e+03</td>\n",
       "      <td>6.127792e+10</td>\n",
       "      <td>8.112491e-02</td>\n",
       "    </tr>\n",
       "    <tr>\n",
       "      <th>std</th>\n",
       "      <td>1.132547e-04</td>\n",
       "      <td>8.091570e-01</td>\n",
       "      <td>2.422266e+00</td>\n",
       "      <td>6.299820e-01</td>\n",
       "      <td>2.422972e+04</td>\n",
       "      <td>9.963210e-01</td>\n",
       "      <td>5.026176e-01</td>\n",
       "      <td>2.424640e+03</td>\n",
       "      <td>5.857503e+05</td>\n",
       "      <td>3.528467e+01</td>\n",
       "      <td>...</td>\n",
       "      <td>2.381252e-01</td>\n",
       "      <td>3.344246e-01</td>\n",
       "      <td>1.157428e-01</td>\n",
       "      <td>2.414268e+02</td>\n",
       "      <td>1.104858e+00</td>\n",
       "      <td>9.924254e-01</td>\n",
       "      <td>1.265151e+02</td>\n",
       "      <td>3.795452e+03</td>\n",
       "      <td>0.000000e+00</td>\n",
       "      <td>1.650704e-01</td>\n",
       "    </tr>\n",
       "    <tr>\n",
       "      <th>min</th>\n",
       "      <td>4.993548e+00</td>\n",
       "      <td>1.000000e+00</td>\n",
       "      <td>1.000000e+00</td>\n",
       "      <td>1.000000e+00</td>\n",
       "      <td>1.000100e+04</td>\n",
       "      <td>1.000000e+00</td>\n",
       "      <td>1.000000e+00</td>\n",
       "      <td>1.211000e+03</td>\n",
       "      <td>7.740000e+02</td>\n",
       "      <td>2.000000e+00</td>\n",
       "      <td>...</td>\n",
       "      <td>0.000000e+00</td>\n",
       "      <td>0.000000e+00</td>\n",
       "      <td>0.000000e+00</td>\n",
       "      <td>1.000000e+00</td>\n",
       "      <td>0.000000e+00</td>\n",
       "      <td>0.000000e+00</td>\n",
       "      <td>2.400000e+01</td>\n",
       "      <td>7.200000e+02</td>\n",
       "      <td>6.127792e+10</td>\n",
       "      <td>0.000000e+00</td>\n",
       "    </tr>\n",
       "    <tr>\n",
       "      <th>25%</th>\n",
       "      <td>4.999988e+00</td>\n",
       "      <td>2.000000e+00</td>\n",
       "      <td>3.000000e+00</td>\n",
       "      <td>2.000000e+00</td>\n",
       "      <td>3.035700e+04</td>\n",
       "      <td>2.000000e+00</td>\n",
       "      <td>2.000000e+00</td>\n",
       "      <td>3.231000e+03</td>\n",
       "      <td>1.665810e+05</td>\n",
       "      <td>1.800000e+01</td>\n",
       "      <td>...</td>\n",
       "      <td>0.000000e+00</td>\n",
       "      <td>0.000000e+00</td>\n",
       "      <td>0.000000e+00</td>\n",
       "      <td>1.830000e+02</td>\n",
       "      <td>1.000000e+00</td>\n",
       "      <td>2.000000e+00</td>\n",
       "      <td>2.000000e+02</td>\n",
       "      <td>6.000000e+03</td>\n",
       "      <td>6.127792e+10</td>\n",
       "      <td>2.057613e-02</td>\n",
       "    </tr>\n",
       "    <tr>\n",
       "      <th>50%</th>\n",
       "      <td>5.000000e+00</td>\n",
       "      <td>2.000000e+00</td>\n",
       "      <td>5.000000e+00</td>\n",
       "      <td>3.000000e+00</td>\n",
       "      <td>5.030100e+04</td>\n",
       "      <td>3.000000e+00</td>\n",
       "      <td>2.000000e+00</td>\n",
       "      <td>5.232000e+03</td>\n",
       "      <td>4.988790e+05</td>\n",
       "      <td>4.000000e+01</td>\n",
       "      <td>...</td>\n",
       "      <td>0.000000e+00</td>\n",
       "      <td>0.000000e+00</td>\n",
       "      <td>0.000000e+00</td>\n",
       "      <td>3.210000e+02</td>\n",
       "      <td>2.000000e+00</td>\n",
       "      <td>2.000000e+00</td>\n",
       "      <td>3.250000e+02</td>\n",
       "      <td>9.750000e+03</td>\n",
       "      <td>6.127792e+10</td>\n",
       "      <td>4.016064e-02</td>\n",
       "    </tr>\n",
       "    <tr>\n",
       "      <th>75%</th>\n",
       "      <td>5.000007e+00</td>\n",
       "      <td>3.000000e+00</td>\n",
       "      <td>7.000000e+00</td>\n",
       "      <td>3.000000e+00</td>\n",
       "      <td>7.043400e+04</td>\n",
       "      <td>3.000000e+00</td>\n",
       "      <td>2.000000e+00</td>\n",
       "      <td>7.232000e+03</td>\n",
       "      <td>1.041001e+06</td>\n",
       "      <td>6.000000e+01</td>\n",
       "      <td>...</td>\n",
       "      <td>0.000000e+00</td>\n",
       "      <td>0.000000e+00</td>\n",
       "      <td>0.000000e+00</td>\n",
       "      <td>5.600000e+02</td>\n",
       "      <td>3.000000e+00</td>\n",
       "      <td>3.000000e+00</td>\n",
       "      <td>4.250000e+02</td>\n",
       "      <td>1.275000e+04</td>\n",
       "      <td>6.127792e+10</td>\n",
       "      <td>8.375210e-02</td>\n",
       "    </tr>\n",
       "    <tr>\n",
       "      <th>max</th>\n",
       "      <td>5.004193e+00</td>\n",
       "      <td>3.000000e+00</td>\n",
       "      <td>9.000000e+00</td>\n",
       "      <td>3.000000e+00</td>\n",
       "      <td>9.052700e+04</td>\n",
       "      <td>4.000000e+00</td>\n",
       "      <td>3.000000e+00</td>\n",
       "      <td>9.333000e+03</td>\n",
       "      <td>1.906579e+06</td>\n",
       "      <td>1.620000e+02</td>\n",
       "      <td>...</td>\n",
       "      <td>1.000000e+00</td>\n",
       "      <td>1.000000e+00</td>\n",
       "      <td>1.000000e+00</td>\n",
       "      <td>9.560000e+02</td>\n",
       "      <td>4.000000e+00</td>\n",
       "      <td>4.000000e+00</td>\n",
       "      <td>4.500000e+02</td>\n",
       "      <td>1.350000e+04</td>\n",
       "      <td>6.127792e+10</td>\n",
       "      <td>3.847222e+01</td>\n",
       "    </tr>\n",
       "  </tbody>\n",
       "</table>\n",
       "<p>8 rows × 67 columns</p>\n",
       "</div>"
      ],
      "text/plain": [
       "             DISCWT  HOSP_BEDSIZE  HOSP_DIVISION  HOSP_LOCTEACH      HOSP_NIS  \\\n",
       "count  5.688609e+06  5.688609e+06   5.688609e+06   5.688609e+06  5.688609e+06   \n",
       "mean   4.999994e+00  2.259361e+00   5.055882e+00   2.654212e+00  5.086042e+04   \n",
       "std    1.132547e-04  8.091570e-01   2.422266e+00   6.299820e-01  2.422972e+04   \n",
       "min    4.993548e+00  1.000000e+00   1.000000e+00   1.000000e+00  1.000100e+04   \n",
       "25%    4.999988e+00  2.000000e+00   3.000000e+00   2.000000e+00  3.035700e+04   \n",
       "50%    5.000000e+00  2.000000e+00   5.000000e+00   3.000000e+00  5.030100e+04   \n",
       "75%    5.000007e+00  3.000000e+00   7.000000e+00   3.000000e+00  7.043400e+04   \n",
       "max    5.004193e+00  3.000000e+00   9.000000e+00   3.000000e+00  9.052700e+04   \n",
       "\n",
       "        HOSP_REGION      H_CONTRL   NIS_STRATUM      N_DISC_U      N_HOSP_U  \\\n",
       "count  5.688609e+06  5.688609e+06  5.688609e+06  5.688609e+06  5.688609e+06   \n",
       "mean   2.608801e+00  2.025326e+00  5.287216e+03  6.711292e+05  4.508812e+01   \n",
       "std    9.963210e-01  5.026176e-01  2.424640e+03  5.857503e+05  3.528467e+01   \n",
       "min    1.000000e+00  1.000000e+00  1.211000e+03  7.740000e+02  2.000000e+00   \n",
       "25%    2.000000e+00  2.000000e+00  3.231000e+03  1.665810e+05  1.800000e+01   \n",
       "50%    3.000000e+00  2.000000e+00  5.232000e+03  4.988790e+05  4.000000e+01   \n",
       "75%    3.000000e+00  2.000000e+00  7.232000e+03  1.041001e+06  6.000000e+01   \n",
       "max    4.000000e+00  3.000000e+00  9.333000e+03  1.906579e+06  1.620000e+02   \n",
       "\n",
       "       ...  CMR_PERIVASC  CMR_THYROID_HYPO  CMR_THYROID_OTH        APRDRG  \\\n",
       "count  ...  5.688609e+06      5.688609e+06     5.688609e+06  5.688609e+06   \n",
       "mean   ...  6.034516e-02      1.283010e-01     1.358082e-02  3.836042e+02   \n",
       "std    ...  2.381252e-01      3.344246e-01     1.157428e-01  2.414268e+02   \n",
       "min    ...  0.000000e+00      0.000000e+00     0.000000e+00  1.000000e+00   \n",
       "25%    ...  0.000000e+00      0.000000e+00     0.000000e+00  1.830000e+02   \n",
       "50%    ...  0.000000e+00      0.000000e+00     0.000000e+00  3.210000e+02   \n",
       "75%    ...  0.000000e+00      0.000000e+00     0.000000e+00  5.600000e+02   \n",
       "max    ...  1.000000e+00      1.000000e+00     1.000000e+00  9.560000e+02   \n",
       "\n",
       "       APRDRG_Risk_Mortality  APRDRG_Severity     bed_count  \\\n",
       "count           5.688609e+06     5.688609e+06  5.688609e+06   \n",
       "mean            2.110781e+00     2.324913e+00  3.040624e+02   \n",
       "std             1.104858e+00     9.924254e-01  1.265151e+02   \n",
       "min             0.000000e+00     0.000000e+00  2.400000e+01   \n",
       "25%             1.000000e+00     2.000000e+00  2.000000e+02   \n",
       "50%             2.000000e+00     2.000000e+00  3.250000e+02   \n",
       "75%             3.000000e+00     3.000000e+00  4.250000e+02   \n",
       "max             4.000000e+00     4.000000e+00  4.500000e+02   \n",
       "\n",
       "       bed_days_available  total_bed_days_available  occupancy_rate  \n",
       "count        5.688609e+06              5.688609e+06    5.688361e+06  \n",
       "mean         9.121871e+03              6.127792e+10    8.112491e-02  \n",
       "std          3.795452e+03              0.000000e+00    1.650704e-01  \n",
       "min          7.200000e+02              6.127792e+10    0.000000e+00  \n",
       "25%          6.000000e+03              6.127792e+10    2.057613e-02  \n",
       "50%          9.750000e+03              6.127792e+10    4.016064e-02  \n",
       "75%          1.275000e+04              6.127792e+10    8.375210e-02  \n",
       "max          1.350000e+04              6.127792e+10    3.847222e+01  \n",
       "\n",
       "[8 rows x 67 columns]"
      ]
     },
     "execution_count": 11,
     "metadata": {},
     "output_type": "execute_result"
    }
   ],
   "source": [
    "df1.describe()"
   ]
  },
  {
   "cell_type": "code",
   "execution_count": 13,
   "metadata": {
    "collapsed": false,
    "gather": {
     "logged": 1736127941038
    },
    "jupyter": {
     "outputs_hidden": false,
     "source_hidden": false
    },
    "nteract": {
     "transient": {
      "deleting": false
     }
    }
   },
   "outputs": [
    {
     "data": {
      "text/plain": [
       "<bound method DataFrame.value_counts of          DISCWT  HOSP_BEDSIZE  HOSP_DIVISION  HOSP_LOCTEACH  HOSP_NIS  \\\n",
       "0           5.0             2              1              3     10001   \n",
       "1           5.0             2              1              3     10001   \n",
       "2           5.0             2              1              3     10001   \n",
       "3           5.0             2              1              3     10001   \n",
       "4           5.0             2              1              3     10001   \n",
       "...         ...           ...            ...            ...       ...   \n",
       "5688604     5.0             3              9              2     90527   \n",
       "5688605     5.0             3              9              2     90527   \n",
       "5688606     5.0             3              9              2     90527   \n",
       "5688607     5.0             3              9              2     90527   \n",
       "5688608     5.0             3              9              2     90527   \n",
       "\n",
       "         HOSP_REGION  H_CONTRL  NIS_STRATUM  N_DISC_U  N_HOSP_U  ...  \\\n",
       "0                  1         2         1232    328130        19  ...   \n",
       "1                  1         2         1232    328130        19  ...   \n",
       "2                  1         2         1232    328130        19  ...   \n",
       "3                  1         2         1232    328130        19  ...   \n",
       "4                  1         2         1232    328130        19  ...   \n",
       "...              ...       ...          ...       ...       ...  ...   \n",
       "5688604            4         2         9223    555265        39  ...   \n",
       "5688605            4         2         9223    555265        39  ...   \n",
       "5688606            4         2         9223    555265        39  ...   \n",
       "5688607            4         2         9223    555265        39  ...   \n",
       "5688608            4         2         9223    555265        39  ...   \n",
       "\n",
       "         CMR_PERIVASC  CMR_THYROID_HYPO  CMR_THYROID_OTH  APRDRG  \\\n",
       "0                   0                 0                0     248   \n",
       "1                   0                 0                0     346   \n",
       "2                   0                 1                0      45   \n",
       "3                   0                 0                0     751   \n",
       "4                   0                 0                0     137   \n",
       "...               ...               ...              ...     ...   \n",
       "5688604             0                 0                0     560   \n",
       "5688605             0                 0                0     137   \n",
       "5688606             0                 0                0     231   \n",
       "5688607             0                 0                0     426   \n",
       "5688608             0                 0                0     241   \n",
       "\n",
       "         APRDRG_Risk_Mortality  APRDRG_Severity  bed_count  \\\n",
       "0                            3                2      424.0   \n",
       "1                            1                2      424.0   \n",
       "2                            3                3      424.0   \n",
       "3                            1                2      424.0   \n",
       "4                            2                2      424.0   \n",
       "...                        ...              ...        ...   \n",
       "5688604                      1                1      175.0   \n",
       "5688605                      4                4      175.0   \n",
       "5688606                      1                1      175.0   \n",
       "5688607                      1                2      175.0   \n",
       "5688608                      2                3      175.0   \n",
       "\n",
       "         bed_days_available  total_bed_days_available  occupancy_rate  \n",
       "0                   12720.0              6.127792e+10        0.102201  \n",
       "1                   12720.0              6.127792e+10        0.055031  \n",
       "2                   12720.0              6.127792e+10        0.047170  \n",
       "3                   12720.0              6.127792e+10        0.125786  \n",
       "4                   12720.0              6.127792e+10        0.007862  \n",
       "...                     ...                       ...             ...  \n",
       "5688604              5250.0              6.127792e+10        0.057143  \n",
       "5688605              5250.0              6.127792e+10        0.114286  \n",
       "5688606              5250.0              6.127792e+10        0.076190  \n",
       "5688607              5250.0              6.127792e+10        0.095238  \n",
       "5688608              5250.0              6.127792e+10        0.095238  \n",
       "\n",
       "[5688609 rows x 67 columns]>"
      ]
     },
     "execution_count": 13,
     "metadata": {},
     "output_type": "execute_result"
    }
   ],
   "source": [
    "df1.value_counts"
   ]
  },
  {
   "cell_type": "markdown",
   "metadata": {
    "nteract": {
     "transient": {
      "deleting": false
     }
    }
   },
   "source": [
    "## Use sample data to understand the dataset \n"
   ]
  },
  {
   "cell_type": "code",
   "execution_count": 14,
   "metadata": {
    "collapsed": false,
    "gather": {
     "logged": 1736128266407
    },
    "jupyter": {
     "outputs_hidden": false,
     "source_hidden": false
    },
    "nteract": {
     "transient": {
      "deleting": false
     }
    }
   },
   "outputs": [],
   "source": [
    "# we want to try to see some sample of thge data to understand what the data looks like and how we can view the entire data.abs\n",
    "\n",
    "sample_df = pd.read_csv(output_csv_path, nrows=10000)"
   ]
  },
  {
   "cell_type": "code",
   "execution_count": 15,
   "metadata": {
    "collapsed": false,
    "gather": {
     "logged": 1736128282853
    },
    "jupyter": {
     "outputs_hidden": false,
     "source_hidden": false
    },
    "nteract": {
     "transient": {
      "deleting": false
     }
    }
   },
   "outputs": [
    {
     "data": {
      "text/html": [
       "<div>\n",
       "<style scoped>\n",
       "    .dataframe tbody tr th:only-of-type {\n",
       "        vertical-align: middle;\n",
       "    }\n",
       "\n",
       "    .dataframe tbody tr th {\n",
       "        vertical-align: top;\n",
       "    }\n",
       "\n",
       "    .dataframe thead th {\n",
       "        text-align: right;\n",
       "    }\n",
       "</style>\n",
       "<table border=\"1\" class=\"dataframe\">\n",
       "  <thead>\n",
       "    <tr style=\"text-align: right;\">\n",
       "      <th></th>\n",
       "      <th>DISCWT</th>\n",
       "      <th>HOSP_BEDSIZE</th>\n",
       "      <th>HOSP_DIVISION</th>\n",
       "      <th>HOSP_LOCTEACH</th>\n",
       "      <th>HOSP_NIS</th>\n",
       "      <th>HOSP_REGION</th>\n",
       "      <th>H_CONTRL</th>\n",
       "      <th>NIS_STRATUM</th>\n",
       "      <th>N_DISC_U</th>\n",
       "      <th>N_HOSP_U</th>\n",
       "      <th>...</th>\n",
       "      <th>CMR_PERIVASC</th>\n",
       "      <th>CMR_THYROID_HYPO</th>\n",
       "      <th>CMR_THYROID_OTH</th>\n",
       "      <th>APRDRG</th>\n",
       "      <th>APRDRG_Risk_Mortality</th>\n",
       "      <th>APRDRG_Severity</th>\n",
       "      <th>bed_count</th>\n",
       "      <th>bed_days_available</th>\n",
       "      <th>total_bed_days_available</th>\n",
       "      <th>occupancy_rate</th>\n",
       "    </tr>\n",
       "  </thead>\n",
       "  <tbody>\n",
       "    <tr>\n",
       "      <th>0</th>\n",
       "      <td>5.0</td>\n",
       "      <td>2</td>\n",
       "      <td>1</td>\n",
       "      <td>3</td>\n",
       "      <td>10001</td>\n",
       "      <td>1</td>\n",
       "      <td>2</td>\n",
       "      <td>1232</td>\n",
       "      <td>328130</td>\n",
       "      <td>19</td>\n",
       "      <td>...</td>\n",
       "      <td>0</td>\n",
       "      <td>0</td>\n",
       "      <td>0</td>\n",
       "      <td>248</td>\n",
       "      <td>3</td>\n",
       "      <td>2</td>\n",
       "      <td>424.0</td>\n",
       "      <td>12720.0</td>\n",
       "      <td>6.127792e+10</td>\n",
       "      <td>0.102201</td>\n",
       "    </tr>\n",
       "    <tr>\n",
       "      <th>1</th>\n",
       "      <td>5.0</td>\n",
       "      <td>2</td>\n",
       "      <td>1</td>\n",
       "      <td>3</td>\n",
       "      <td>10001</td>\n",
       "      <td>1</td>\n",
       "      <td>2</td>\n",
       "      <td>1232</td>\n",
       "      <td>328130</td>\n",
       "      <td>19</td>\n",
       "      <td>...</td>\n",
       "      <td>0</td>\n",
       "      <td>0</td>\n",
       "      <td>0</td>\n",
       "      <td>346</td>\n",
       "      <td>1</td>\n",
       "      <td>2</td>\n",
       "      <td>424.0</td>\n",
       "      <td>12720.0</td>\n",
       "      <td>6.127792e+10</td>\n",
       "      <td>0.055031</td>\n",
       "    </tr>\n",
       "    <tr>\n",
       "      <th>2</th>\n",
       "      <td>5.0</td>\n",
       "      <td>2</td>\n",
       "      <td>1</td>\n",
       "      <td>3</td>\n",
       "      <td>10001</td>\n",
       "      <td>1</td>\n",
       "      <td>2</td>\n",
       "      <td>1232</td>\n",
       "      <td>328130</td>\n",
       "      <td>19</td>\n",
       "      <td>...</td>\n",
       "      <td>0</td>\n",
       "      <td>1</td>\n",
       "      <td>0</td>\n",
       "      <td>45</td>\n",
       "      <td>3</td>\n",
       "      <td>3</td>\n",
       "      <td>424.0</td>\n",
       "      <td>12720.0</td>\n",
       "      <td>6.127792e+10</td>\n",
       "      <td>0.047170</td>\n",
       "    </tr>\n",
       "    <tr>\n",
       "      <th>3</th>\n",
       "      <td>5.0</td>\n",
       "      <td>2</td>\n",
       "      <td>1</td>\n",
       "      <td>3</td>\n",
       "      <td>10001</td>\n",
       "      <td>1</td>\n",
       "      <td>2</td>\n",
       "      <td>1232</td>\n",
       "      <td>328130</td>\n",
       "      <td>19</td>\n",
       "      <td>...</td>\n",
       "      <td>0</td>\n",
       "      <td>0</td>\n",
       "      <td>0</td>\n",
       "      <td>751</td>\n",
       "      <td>1</td>\n",
       "      <td>2</td>\n",
       "      <td>424.0</td>\n",
       "      <td>12720.0</td>\n",
       "      <td>6.127792e+10</td>\n",
       "      <td>0.125786</td>\n",
       "    </tr>\n",
       "    <tr>\n",
       "      <th>4</th>\n",
       "      <td>5.0</td>\n",
       "      <td>2</td>\n",
       "      <td>1</td>\n",
       "      <td>3</td>\n",
       "      <td>10001</td>\n",
       "      <td>1</td>\n",
       "      <td>2</td>\n",
       "      <td>1232</td>\n",
       "      <td>328130</td>\n",
       "      <td>19</td>\n",
       "      <td>...</td>\n",
       "      <td>0</td>\n",
       "      <td>0</td>\n",
       "      <td>0</td>\n",
       "      <td>137</td>\n",
       "      <td>2</td>\n",
       "      <td>2</td>\n",
       "      <td>424.0</td>\n",
       "      <td>12720.0</td>\n",
       "      <td>6.127792e+10</td>\n",
       "      <td>0.007862</td>\n",
       "    </tr>\n",
       "  </tbody>\n",
       "</table>\n",
       "<p>5 rows × 67 columns</p>\n",
       "</div>"
      ],
      "text/plain": [
       "   DISCWT  HOSP_BEDSIZE  HOSP_DIVISION  HOSP_LOCTEACH  HOSP_NIS  HOSP_REGION  \\\n",
       "0     5.0             2              1              3     10001            1   \n",
       "1     5.0             2              1              3     10001            1   \n",
       "2     5.0             2              1              3     10001            1   \n",
       "3     5.0             2              1              3     10001            1   \n",
       "4     5.0             2              1              3     10001            1   \n",
       "\n",
       "   H_CONTRL  NIS_STRATUM  N_DISC_U  N_HOSP_U  ...  CMR_PERIVASC  \\\n",
       "0         2         1232    328130        19  ...             0   \n",
       "1         2         1232    328130        19  ...             0   \n",
       "2         2         1232    328130        19  ...             0   \n",
       "3         2         1232    328130        19  ...             0   \n",
       "4         2         1232    328130        19  ...             0   \n",
       "\n",
       "   CMR_THYROID_HYPO  CMR_THYROID_OTH  APRDRG  APRDRG_Risk_Mortality  \\\n",
       "0                 0                0     248                      3   \n",
       "1                 0                0     346                      1   \n",
       "2                 1                0      45                      3   \n",
       "3                 0                0     751                      1   \n",
       "4                 0                0     137                      2   \n",
       "\n",
       "   APRDRG_Severity  bed_count  bed_days_available  total_bed_days_available  \\\n",
       "0                2      424.0             12720.0              6.127792e+10   \n",
       "1                2      424.0             12720.0              6.127792e+10   \n",
       "2                3      424.0             12720.0              6.127792e+10   \n",
       "3                2      424.0             12720.0              6.127792e+10   \n",
       "4                2      424.0             12720.0              6.127792e+10   \n",
       "\n",
       "   occupancy_rate  \n",
       "0        0.102201  \n",
       "1        0.055031  \n",
       "2        0.047170  \n",
       "3        0.125786  \n",
       "4        0.007862  \n",
       "\n",
       "[5 rows x 67 columns]"
      ]
     },
     "execution_count": 15,
     "metadata": {},
     "output_type": "execute_result"
    }
   ],
   "source": [
    "sample_df.head()"
   ]
  },
  {
   "cell_type": "code",
   "execution_count": 16,
   "metadata": {
    "collapsed": false,
    "gather": {
     "logged": 1736128300076
    },
    "jupyter": {
     "outputs_hidden": false,
     "source_hidden": false
    },
    "nteract": {
     "transient": {
      "deleting": false
     }
    }
   },
   "outputs": [
    {
     "data": {
      "text/html": [
       "<div>\n",
       "<style scoped>\n",
       "    .dataframe tbody tr th:only-of-type {\n",
       "        vertical-align: middle;\n",
       "    }\n",
       "\n",
       "    .dataframe tbody tr th {\n",
       "        vertical-align: top;\n",
       "    }\n",
       "\n",
       "    .dataframe thead th {\n",
       "        text-align: right;\n",
       "    }\n",
       "</style>\n",
       "<table border=\"1\" class=\"dataframe\">\n",
       "  <thead>\n",
       "    <tr style=\"text-align: right;\">\n",
       "      <th></th>\n",
       "      <th>DISCWT</th>\n",
       "      <th>HOSP_BEDSIZE</th>\n",
       "      <th>HOSP_DIVISION</th>\n",
       "      <th>HOSP_LOCTEACH</th>\n",
       "      <th>HOSP_NIS</th>\n",
       "      <th>HOSP_REGION</th>\n",
       "      <th>H_CONTRL</th>\n",
       "      <th>NIS_STRATUM</th>\n",
       "      <th>N_DISC_U</th>\n",
       "      <th>N_HOSP_U</th>\n",
       "      <th>...</th>\n",
       "      <th>CMR_PERIVASC</th>\n",
       "      <th>CMR_THYROID_HYPO</th>\n",
       "      <th>CMR_THYROID_OTH</th>\n",
       "      <th>APRDRG</th>\n",
       "      <th>APRDRG_Risk_Mortality</th>\n",
       "      <th>APRDRG_Severity</th>\n",
       "      <th>bed_count</th>\n",
       "      <th>bed_days_available</th>\n",
       "      <th>total_bed_days_available</th>\n",
       "      <th>occupancy_rate</th>\n",
       "    </tr>\n",
       "  </thead>\n",
       "  <tbody>\n",
       "    <tr>\n",
       "      <th>count</th>\n",
       "      <td>10000.000000</td>\n",
       "      <td>10000.000000</td>\n",
       "      <td>10000.0</td>\n",
       "      <td>10000.000000</td>\n",
       "      <td>10000.000000</td>\n",
       "      <td>10000.0</td>\n",
       "      <td>10000.0</td>\n",
       "      <td>10000.000000</td>\n",
       "      <td>10000.000000</td>\n",
       "      <td>10000.000000</td>\n",
       "      <td>...</td>\n",
       "      <td>10000.000000</td>\n",
       "      <td>10000.000000</td>\n",
       "      <td>10000.000000</td>\n",
       "      <td>10000.000000</td>\n",
       "      <td>10000.000000</td>\n",
       "      <td>10000.000000</td>\n",
       "      <td>10000.000000</td>\n",
       "      <td>10000.000000</td>\n",
       "      <td>1.000000e+04</td>\n",
       "      <td>10000.000000</td>\n",
       "    </tr>\n",
       "    <tr>\n",
       "      <th>mean</th>\n",
       "      <td>4.999971</td>\n",
       "      <td>2.080800</td>\n",
       "      <td>1.0</td>\n",
       "      <td>2.340500</td>\n",
       "      <td>10003.302500</td>\n",
       "      <td>1.0</td>\n",
       "      <td>2.0</td>\n",
       "      <td>1225.485800</td>\n",
       "      <td>217765.081500</td>\n",
       "      <td>16.468500</td>\n",
       "      <td>...</td>\n",
       "      <td>0.061300</td>\n",
       "      <td>0.132600</td>\n",
       "      <td>0.012700</td>\n",
       "      <td>384.140500</td>\n",
       "      <td>2.031900</td>\n",
       "      <td>2.200000</td>\n",
       "      <td>293.009200</td>\n",
       "      <td>8790.276000</td>\n",
       "      <td>6.127792e+10</td>\n",
       "      <td>0.096891</td>\n",
       "    </tr>\n",
       "    <tr>\n",
       "      <th>std</th>\n",
       "      <td>0.000092</td>\n",
       "      <td>0.588308</td>\n",
       "      <td>0.0</td>\n",
       "      <td>0.807233</td>\n",
       "      <td>1.934934</td>\n",
       "      <td>0.0</td>\n",
       "      <td>0.0</td>\n",
       "      <td>7.899116</td>\n",
       "      <td>133265.105146</td>\n",
       "      <td>7.397018</td>\n",
       "      <td>...</td>\n",
       "      <td>0.239892</td>\n",
       "      <td>0.339159</td>\n",
       "      <td>0.111982</td>\n",
       "      <td>238.381799</td>\n",
       "      <td>1.049282</td>\n",
       "      <td>0.949152</td>\n",
       "      <td>149.249211</td>\n",
       "      <td>4477.476336</td>\n",
       "      <td>0.000000e+00</td>\n",
       "      <td>0.221615</td>\n",
       "    </tr>\n",
       "    <tr>\n",
       "      <th>min</th>\n",
       "      <td>4.999731</td>\n",
       "      <td>1.000000</td>\n",
       "      <td>1.0</td>\n",
       "      <td>1.000000</td>\n",
       "      <td>10001.000000</td>\n",
       "      <td>1.0</td>\n",
       "      <td>2.0</td>\n",
       "      <td>1211.000000</td>\n",
       "      <td>37198.000000</td>\n",
       "      <td>5.000000</td>\n",
       "      <td>...</td>\n",
       "      <td>0.000000</td>\n",
       "      <td>0.000000</td>\n",
       "      <td>0.000000</td>\n",
       "      <td>4.000000</td>\n",
       "      <td>0.000000</td>\n",
       "      <td>0.000000</td>\n",
       "      <td>49.000000</td>\n",
       "      <td>1470.000000</td>\n",
       "      <td>6.127792e+10</td>\n",
       "      <td>0.000000</td>\n",
       "    </tr>\n",
       "    <tr>\n",
       "      <th>25%</th>\n",
       "      <td>5.000000</td>\n",
       "      <td>2.000000</td>\n",
       "      <td>1.0</td>\n",
       "      <td>2.000000</td>\n",
       "      <td>10001.000000</td>\n",
       "      <td>1.0</td>\n",
       "      <td>2.0</td>\n",
       "      <td>1221.000000</td>\n",
       "      <td>88980.000000</td>\n",
       "      <td>11.000000</td>\n",
       "      <td>...</td>\n",
       "      <td>0.000000</td>\n",
       "      <td>0.000000</td>\n",
       "      <td>0.000000</td>\n",
       "      <td>192.000000</td>\n",
       "      <td>1.000000</td>\n",
       "      <td>1.000000</td>\n",
       "      <td>124.000000</td>\n",
       "      <td>3720.000000</td>\n",
       "      <td>6.127792e+10</td>\n",
       "      <td>0.023585</td>\n",
       "    </tr>\n",
       "    <tr>\n",
       "      <th>50%</th>\n",
       "      <td>5.000000</td>\n",
       "      <td>2.000000</td>\n",
       "      <td>1.0</td>\n",
       "      <td>3.000000</td>\n",
       "      <td>10003.000000</td>\n",
       "      <td>1.0</td>\n",
       "      <td>2.0</td>\n",
       "      <td>1232.000000</td>\n",
       "      <td>328130.000000</td>\n",
       "      <td>19.000000</td>\n",
       "      <td>...</td>\n",
       "      <td>0.000000</td>\n",
       "      <td>0.000000</td>\n",
       "      <td>0.000000</td>\n",
       "      <td>322.000000</td>\n",
       "      <td>2.000000</td>\n",
       "      <td>2.000000</td>\n",
       "      <td>424.000000</td>\n",
       "      <td>12720.000000</td>\n",
       "      <td>6.127792e+10</td>\n",
       "      <td>0.047170</td>\n",
       "    </tr>\n",
       "    <tr>\n",
       "      <th>75%</th>\n",
       "      <td>5.000000</td>\n",
       "      <td>2.000000</td>\n",
       "      <td>1.0</td>\n",
       "      <td>3.000000</td>\n",
       "      <td>10005.000000</td>\n",
       "      <td>1.0</td>\n",
       "      <td>2.0</td>\n",
       "      <td>1232.000000</td>\n",
       "      <td>328130.000000</td>\n",
       "      <td>19.000000</td>\n",
       "      <td>...</td>\n",
       "      <td>0.000000</td>\n",
       "      <td>0.000000</td>\n",
       "      <td>0.000000</td>\n",
       "      <td>560.000000</td>\n",
       "      <td>3.000000</td>\n",
       "      <td>3.000000</td>\n",
       "      <td>424.000000</td>\n",
       "      <td>12720.000000</td>\n",
       "      <td>6.127792e+10</td>\n",
       "      <td>0.100503</td>\n",
       "    </tr>\n",
       "    <tr>\n",
       "      <th>max</th>\n",
       "      <td>5.000112</td>\n",
       "      <td>3.000000</td>\n",
       "      <td>1.0</td>\n",
       "      <td>3.000000</td>\n",
       "      <td>10007.000000</td>\n",
       "      <td>1.0</td>\n",
       "      <td>2.0</td>\n",
       "      <td>1233.000000</td>\n",
       "      <td>456240.000000</td>\n",
       "      <td>38.000000</td>\n",
       "      <td>...</td>\n",
       "      <td>1.000000</td>\n",
       "      <td>1.000000</td>\n",
       "      <td>1.000000</td>\n",
       "      <td>956.000000</td>\n",
       "      <td>4.000000</td>\n",
       "      <td>4.000000</td>\n",
       "      <td>425.000000</td>\n",
       "      <td>12750.000000</td>\n",
       "      <td>6.127792e+10</td>\n",
       "      <td>8.700000</td>\n",
       "    </tr>\n",
       "  </tbody>\n",
       "</table>\n",
       "<p>8 rows × 67 columns</p>\n",
       "</div>"
      ],
      "text/plain": [
       "             DISCWT  HOSP_BEDSIZE  HOSP_DIVISION  HOSP_LOCTEACH      HOSP_NIS  \\\n",
       "count  10000.000000  10000.000000        10000.0   10000.000000  10000.000000   \n",
       "mean       4.999971      2.080800            1.0       2.340500  10003.302500   \n",
       "std        0.000092      0.588308            0.0       0.807233      1.934934   \n",
       "min        4.999731      1.000000            1.0       1.000000  10001.000000   \n",
       "25%        5.000000      2.000000            1.0       2.000000  10001.000000   \n",
       "50%        5.000000      2.000000            1.0       3.000000  10003.000000   \n",
       "75%        5.000000      2.000000            1.0       3.000000  10005.000000   \n",
       "max        5.000112      3.000000            1.0       3.000000  10007.000000   \n",
       "\n",
       "       HOSP_REGION  H_CONTRL   NIS_STRATUM       N_DISC_U      N_HOSP_U  ...  \\\n",
       "count      10000.0   10000.0  10000.000000   10000.000000  10000.000000  ...   \n",
       "mean           1.0       2.0   1225.485800  217765.081500     16.468500  ...   \n",
       "std            0.0       0.0      7.899116  133265.105146      7.397018  ...   \n",
       "min            1.0       2.0   1211.000000   37198.000000      5.000000  ...   \n",
       "25%            1.0       2.0   1221.000000   88980.000000     11.000000  ...   \n",
       "50%            1.0       2.0   1232.000000  328130.000000     19.000000  ...   \n",
       "75%            1.0       2.0   1232.000000  328130.000000     19.000000  ...   \n",
       "max            1.0       2.0   1233.000000  456240.000000     38.000000  ...   \n",
       "\n",
       "       CMR_PERIVASC  CMR_THYROID_HYPO  CMR_THYROID_OTH        APRDRG  \\\n",
       "count  10000.000000      10000.000000     10000.000000  10000.000000   \n",
       "mean       0.061300          0.132600         0.012700    384.140500   \n",
       "std        0.239892          0.339159         0.111982    238.381799   \n",
       "min        0.000000          0.000000         0.000000      4.000000   \n",
       "25%        0.000000          0.000000         0.000000    192.000000   \n",
       "50%        0.000000          0.000000         0.000000    322.000000   \n",
       "75%        0.000000          0.000000         0.000000    560.000000   \n",
       "max        1.000000          1.000000         1.000000    956.000000   \n",
       "\n",
       "       APRDRG_Risk_Mortality  APRDRG_Severity     bed_count  \\\n",
       "count           10000.000000     10000.000000  10000.000000   \n",
       "mean                2.031900         2.200000    293.009200   \n",
       "std                 1.049282         0.949152    149.249211   \n",
       "min                 0.000000         0.000000     49.000000   \n",
       "25%                 1.000000         1.000000    124.000000   \n",
       "50%                 2.000000         2.000000    424.000000   \n",
       "75%                 3.000000         3.000000    424.000000   \n",
       "max                 4.000000         4.000000    425.000000   \n",
       "\n",
       "       bed_days_available  total_bed_days_available  occupancy_rate  \n",
       "count        10000.000000              1.000000e+04    10000.000000  \n",
       "mean          8790.276000              6.127792e+10        0.096891  \n",
       "std           4477.476336              0.000000e+00        0.221615  \n",
       "min           1470.000000              6.127792e+10        0.000000  \n",
       "25%           3720.000000              6.127792e+10        0.023585  \n",
       "50%          12720.000000              6.127792e+10        0.047170  \n",
       "75%          12720.000000              6.127792e+10        0.100503  \n",
       "max          12750.000000              6.127792e+10        8.700000  \n",
       "\n",
       "[8 rows x 67 columns]"
      ]
     },
     "execution_count": 16,
     "metadata": {},
     "output_type": "execute_result"
    }
   ],
   "source": [
    "sample_df.describe()"
   ]
  },
  {
   "cell_type": "code",
   "execution_count": 19,
   "metadata": {
    "collapsed": false,
    "gather": {
     "logged": 1736128402958
    },
    "jupyter": {
     "outputs_hidden": false,
     "source_hidden": false
    },
    "nteract": {
     "transient": {
      "deleting": false
     }
    }
   },
   "outputs": [
    {
     "data": {
      "text/plain": [
       "DISCWT                      0\n",
       "HOSP_BEDSIZE                0\n",
       "HOSP_DIVISION               0\n",
       "HOSP_LOCTEACH               0\n",
       "HOSP_NIS                    0\n",
       "                           ..\n",
       "APRDRG_Severity             0\n",
       "bed_count                   0\n",
       "bed_days_available          0\n",
       "total_bed_days_available    0\n",
       "occupancy_rate              0\n",
       "Length: 67, dtype: int64"
      ]
     },
     "execution_count": 19,
     "metadata": {},
     "output_type": "execute_result"
    }
   ],
   "source": [
    "# Check for null values \n",
    "null_counts = sample_df.isnull()\n",
    "null_counts.sum()"
   ]
  },
  {
   "cell_type": "code",
   "execution_count": 21,
   "metadata": {
    "collapsed": false,
    "gather": {
     "logged": 1736128456307
    },
    "jupyter": {
     "outputs_hidden": false,
     "source_hidden": false
    },
    "nteract": {
     "transient": {
      "deleting": false
     }
    }
   },
   "outputs": [
    {
     "data": {
      "text/plain": [
       "[dtype('float64'),\n",
       " dtype('int64'),\n",
       " dtype('int64'),\n",
       " dtype('int64'),\n",
       " dtype('int64'),\n",
       " dtype('int64'),\n",
       " dtype('int64'),\n",
       " dtype('int64'),\n",
       " dtype('int64'),\n",
       " dtype('int64'),\n",
       " dtype('int64'),\n",
       " dtype('int64'),\n",
       " dtype('int64'),\n",
       " dtype('int64'),\n",
       " dtype('int64'),\n",
       " dtype('int64'),\n",
       " dtype('int64'),\n",
       " dtype('float64'),\n",
       " dtype('float64'),\n",
       " dtype('int64'),\n",
       " dtype('int64'),\n",
       " dtype('int64'),\n",
       " dtype('int64'),\n",
       " dtype('float64'),\n",
       " dtype('float64'),\n",
       " dtype('int64'),\n",
       " dtype('int64'),\n",
       " dtype('int64'),\n",
       " dtype('float64'),\n",
       " dtype('int64'),\n",
       " dtype('int64'),\n",
       " dtype('int64'),\n",
       " dtype('float64'),\n",
       " dtype('int64'),\n",
       " dtype('float64'),\n",
       " dtype('float64'),\n",
       " dtype('float64'),\n",
       " dtype('float64'),\n",
       " dtype('float64'),\n",
       " dtype('float64'),\n",
       " dtype('int64'),\n",
       " dtype('int64'),\n",
       " dtype('int64'),\n",
       " dtype('int64'),\n",
       " dtype('int64'),\n",
       " dtype('int64'),\n",
       " dtype('int64'),\n",
       " dtype('int64'),\n",
       " dtype('int64'),\n",
       " dtype('int64'),\n",
       " dtype('int64'),\n",
       " dtype('int64'),\n",
       " dtype('int64'),\n",
       " dtype('int64'),\n",
       " dtype('int64'),\n",
       " dtype('int64'),\n",
       " dtype('int64'),\n",
       " dtype('int64'),\n",
       " dtype('int64'),\n",
       " dtype('int64'),\n",
       " dtype('int64'),\n",
       " dtype('int64'),\n",
       " dtype('int64'),\n",
       " dtype('float64'),\n",
       " dtype('float64'),\n",
       " dtype('float64'),\n",
       " dtype('float64')]"
      ]
     },
     "execution_count": 21,
     "metadata": {},
     "output_type": "execute_result"
    }
   ],
   "source": [
    "list(sample_df.dtypes)"
   ]
  },
  {
   "cell_type": "code",
   "execution_count": 22,
   "metadata": {
    "collapsed": false,
    "gather": {
     "logged": 1736129040103
    },
    "jupyter": {
     "outputs_hidden": false,
     "source_hidden": false
    },
    "nteract": {
     "transient": {
      "deleting": false
     }
    }
   },
   "outputs": [
    {
     "name": "stdout",
     "output_type": "stream",
     "text": [
      "                            DISCWT  HOSP_BEDSIZE  HOSP_DIVISION  \\\n",
      "DISCWT                    1.000000     -0.661518            NaN   \n",
      "HOSP_BEDSIZE             -0.661518      1.000000            NaN   \n",
      "HOSP_DIVISION                  NaN           NaN            NaN   \n",
      "HOSP_LOCTEACH             0.678279     -0.327706            NaN   \n",
      "HOSP_NIS                 -0.060696      0.157314            NaN   \n",
      "...                            ...           ...            ...   \n",
      "APRDRG_Severity           0.081241     -0.045062            NaN   \n",
      "bed_count                 0.449594     -0.078099            NaN   \n",
      "bed_days_available        0.449594     -0.078099            NaN   \n",
      "total_bed_days_available       NaN           NaN            NaN   \n",
      "occupancy_rate           -0.260807      0.144167            NaN   \n",
      "\n",
      "                          HOSP_LOCTEACH  HOSP_NIS  HOSP_REGION  H_CONTRL  \\\n",
      "DISCWT                         0.678279 -0.060696          NaN       NaN   \n",
      "HOSP_BEDSIZE                  -0.327706  0.157314          NaN       NaN   \n",
      "HOSP_DIVISION                       NaN       NaN          NaN       NaN   \n",
      "HOSP_LOCTEACH                  1.000000 -0.076068          NaN       NaN   \n",
      "HOSP_NIS                      -0.076068  1.000000          NaN       NaN   \n",
      "...                                 ...       ...          ...       ...   \n",
      "APRDRG_Severity                0.024148  0.071228          NaN       NaN   \n",
      "bed_count                      0.956316 -0.075073          NaN       NaN   \n",
      "bed_days_available             0.956316 -0.075073          NaN       NaN   \n",
      "total_bed_days_available            NaN       NaN          NaN       NaN   \n",
      "occupancy_rate                -0.331514  0.000168          NaN       NaN   \n",
      "\n",
      "                          NIS_STRATUM  N_DISC_U  N_HOSP_U  ...  CMR_PERIVASC  \\\n",
      "DISCWT                       0.643884  0.421765  0.499429  ...      0.021056   \n",
      "HOSP_BEDSIZE                -0.260414 -0.050834 -0.895173  ...     -0.013840   \n",
      "HOSP_DIVISION                     NaN       NaN       NaN  ...           NaN   \n",
      "HOSP_LOCTEACH                0.997521  0.931505  0.457678  ...      0.027513   \n",
      "HOSP_NIS                    -0.066019 -0.085082 -0.231001  ...      0.037181   \n",
      "...                               ...       ...       ...  ...           ...   \n",
      "APRDRG_Severity              0.021321  0.002326  0.019757  ...      0.069135   \n",
      "bed_count                    0.971470  0.976676  0.283051  ...      0.024872   \n",
      "bed_days_available           0.971470  0.976676  0.283051  ...      0.024872   \n",
      "total_bed_days_available          NaN       NaN       NaN  ...           NaN   \n",
      "occupancy_rate              -0.328046 -0.286225 -0.160600  ...      0.003609   \n",
      "\n",
      "                          CMR_THYROID_HYPO  CMR_THYROID_OTH    APRDRG  \\\n",
      "DISCWT                            0.043636         0.014124 -0.024466   \n",
      "HOSP_BEDSIZE                     -0.047687        -0.015578  0.025604   \n",
      "HOSP_DIVISION                          NaN              NaN       NaN   \n",
      "HOSP_LOCTEACH                     0.027213         0.006369 -0.028494   \n",
      "HOSP_NIS                         -0.002608         0.014577 -0.114597   \n",
      "...                                    ...              ...       ...   \n",
      "APRDRG_Severity                   0.039083         0.004328 -0.039783   \n",
      "bed_count                         0.014895         0.000065 -0.022452   \n",
      "bed_days_available                0.014895         0.000065 -0.022452   \n",
      "total_bed_days_available               NaN              NaN       NaN   \n",
      "occupancy_rate                   -0.007878        -0.000911  0.040127   \n",
      "\n",
      "                          APRDRG_Risk_Mortality  APRDRG_Severity  bed_count  \\\n",
      "DISCWT                                 0.082629         0.081241   0.449594   \n",
      "HOSP_BEDSIZE                          -0.048729        -0.045062  -0.078099   \n",
      "HOSP_DIVISION                               NaN              NaN        NaN   \n",
      "HOSP_LOCTEACH                          0.023423         0.024148   0.956316   \n",
      "HOSP_NIS                               0.079184         0.071228  -0.075073   \n",
      "...                                         ...              ...        ...   \n",
      "APRDRG_Severity                        0.803170         1.000000  -0.001364   \n",
      "bed_count                             -0.001996        -0.001364   1.000000   \n",
      "bed_days_available                    -0.001996        -0.001364   1.000000   \n",
      "total_bed_days_available                    NaN              NaN        NaN   \n",
      "occupancy_rate                         0.146793         0.173269  -0.302210   \n",
      "\n",
      "                          bed_days_available  total_bed_days_available  \\\n",
      "DISCWT                              0.449594                       NaN   \n",
      "HOSP_BEDSIZE                       -0.078099                       NaN   \n",
      "HOSP_DIVISION                            NaN                       NaN   \n",
      "HOSP_LOCTEACH                       0.956316                       NaN   \n",
      "HOSP_NIS                           -0.075073                       NaN   \n",
      "...                                      ...                       ...   \n",
      "APRDRG_Severity                    -0.001364                       NaN   \n",
      "bed_count                           1.000000                       NaN   \n",
      "bed_days_available                  1.000000                       NaN   \n",
      "total_bed_days_available                 NaN                       NaN   \n",
      "occupancy_rate                     -0.302210                       NaN   \n",
      "\n",
      "                          occupancy_rate  \n",
      "DISCWT                         -0.260807  \n",
      "HOSP_BEDSIZE                    0.144167  \n",
      "HOSP_DIVISION                        NaN  \n",
      "HOSP_LOCTEACH                  -0.331514  \n",
      "HOSP_NIS                        0.000168  \n",
      "...                                  ...  \n",
      "APRDRG_Severity                 0.173269  \n",
      "bed_count                      -0.302210  \n",
      "bed_days_available             -0.302210  \n",
      "total_bed_days_available             NaN  \n",
      "occupancy_rate                  1.000000  \n",
      "\n",
      "[67 rows x 67 columns]\n"
     ]
    }
   ],
   "source": [
    "# lets check for correlation matrix\n",
    "\n",
    "correlation_matrix = sample_df.corr()\n",
    "print(correlation_matrix)"
   ]
  },
  {
   "cell_type": "code",
   "execution_count": 23,
   "metadata": {
    "collapsed": false,
    "gather": {
     "logged": 1736129482708
    },
    "jupyter": {
     "outputs_hidden": false,
     "source_hidden": false
    },
    "nteract": {
     "transient": {
      "deleting": false
     }
    }
   },
   "outputs": [
    {
     "data": {
      "text/plain": [
       "dtype('int64')"
      ]
     },
     "execution_count": 23,
     "metadata": {},
     "output_type": "execute_result"
    }
   ],
   "source": [
    "sample_df[\"LOS\"].dtype"
   ]
  },
  {
   "cell_type": "code",
   "execution_count": 24,
   "metadata": {
    "collapsed": false,
    "gather": {
     "logged": 1736129703479
    },
    "jupyter": {
     "outputs_hidden": false,
     "source_hidden": false
    },
    "nteract": {
     "transient": {
      "deleting": false
     }
    }
   },
   "outputs": [],
   "source": [
    "# Check unique values in each columns\n",
    "unique_counts = sample_df.nunique()\n",
    "print(unique_counts)"
   ]
  },
  {
   "cell_type": "code",
   "execution_count": 25,
   "metadata": {
    "collapsed": false,
    "gather": {
     "logged": 1736129972692
    },
    "jupyter": {
     "outputs_hidden": false,
     "source_hidden": false
    },
    "nteract": {
     "transient": {
      "deleting": false
     }
    }
   },
   "outputs": [
    {
     "data": {
      "text/plain": [
       "DISCWT                        4\n",
       "HOSP_BEDSIZE                  3\n",
       "HOSP_DIVISION                 1\n",
       "HOSP_LOCTEACH                 3\n",
       "HOSP_NIS                      7\n",
       "                           ... \n",
       "APRDRG_Severity               5\n",
       "bed_count                     6\n",
       "bed_days_available            6\n",
       "total_bed_days_available      1\n",
       "occupancy_rate              243\n",
       "Length: 67, dtype: int64"
      ]
     },
     "execution_count": 25,
     "metadata": {},
     "output_type": "execute_result"
    }
   ],
   "source": [
    "unique_counts"
   ]
  },
  {
   "cell_type": "code",
   "execution_count": null,
   "metadata": {
    "collapsed": false,
    "jupyter": {
     "outputs_hidden": false,
     "source_hidden": false
    },
    "nteract": {
     "transient": {
      "deleting": false
     }
    }
   },
   "outputs": [],
   "source": [
    "# Identify columns with high correlation to the target variable (if known)\n",
    "# Example: target_column = 'target'\n",
    "# high_corr_columns = correlation_matrix[target_column][correlation_matrix[target_column].abs() > 0.5].index\n",
    "# print(f\"Columns with high correlation to {target_column}: {high_corr_columns}\")"
   ]
  }
 ],
 "metadata": {
  "environment": {
   "kernel": "conda-base-py",
   "name": "workbench-notebooks.m127",
   "type": "gcloud",
   "uri": "us-docker.pkg.dev/deeplearning-platform-release/gcr.io/workbench-notebooks:m127"
  },
  "kernel_info": {
   "name": "python310-sdkv2"
  },
  "kernelspec": {
   "display_name": "Python 3 (ipykernel) (Local)",
   "language": "python",
   "name": "conda-base-py"
  },
  "language_info": {
   "codemirror_mode": {
    "name": "ipython",
    "version": 3
   },
   "file_extension": ".py",
   "mimetype": "text/x-python",
   "name": "python",
   "nbconvert_exporter": "python",
   "pygments_lexer": "ipython3",
   "version": "3.10.16"
  },
  "microsoft": {
   "host": {
    "AzureML": {
     "notebookHasBeenCompleted": true
    }
   },
   "ms_spell_check": {
    "ms_spell_check_language": "en"
   }
  },
  "nteract": {
   "version": "nteract-front-end@1.0.0"
  }
 },
 "nbformat": 4,
 "nbformat_minor": 4
}
